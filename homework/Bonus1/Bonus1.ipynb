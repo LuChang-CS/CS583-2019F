{
 "cells": [
  {
   "cell_type": "markdown",
   "metadata": {},
   "source": [
    "# Bonus 1: Numerical Optimization for Logistic Regression.\n",
    "\n",
    "### Name: Chang Lu\n",
    "### Stevens ID: 10449955\n"
   ]
  },
  {
   "cell_type": "markdown",
   "metadata": {},
   "source": [
    "## 0. You will do the following:\n",
    "\n",
    "1. Read the lecture note: [click here](https://github.com/wangshusen/DeepLearning/blob/master/LectureNotes/Logistic/paper/logistic.pdf)\n",
    "\n",
    "2. Read, complete, and run my code.\n",
    "\n",
    "3. **Implement mini-batch SGD** and evaluate the performance. (1 bonus point.)\n",
    "\n",
    "4. Convert the .IPYNB file to .HTML file.\n",
    "\n",
    "    * The HTML file must contain **the code** and **the output after execution**.\n",
    "    \n",
    "5. Upload this .HTML file to your Github repo.\n",
    "\n",
    "6. Submit the link to this .HTML file to Canvas.\n",
    "\n",
    "    * Example: https://github.com/wangshusen/CS583-2019F/blob/master/homework/Bonus1/Bonus1.html\n",
    "\n",
    "\n",
    "## Grading criteria:\n",
    "\n",
    "1. When computing the ```gradient``` and ```objective function value``` using a batch of samples, use **matrix-vector multiplication** rather than a FOR LOOP of **vector-vector multiplications**.\n",
    "\n",
    "2. Plot ```objective function value``` against ```epochs```. In the plot, compare GD, SGD, and MB-SGD (with $b=8$ and $b=64$). The plot must look reasonable."
   ]
  },
  {
   "cell_type": "code",
   "execution_count": null,
   "metadata": {},
   "outputs": [],
   "source": []
  },
  {
   "cell_type": "markdown",
   "metadata": {},
   "source": [
    "# 1. Data processing\n",
    "\n",
    "- Download the Diabete dataset from https://www.csie.ntu.edu.tw/~cjlin/libsvmtools/datasets/binary/diabetes\n",
    "- Load the data using sklearn.\n",
    "- Preprocess the data."
   ]
  },
  {
   "cell_type": "markdown",
   "metadata": {},
   "source": [
    "## 1.1. Load the data"
   ]
  },
  {
   "cell_type": "code",
   "execution_count": 1,
   "metadata": {},
   "outputs": [
    {
     "name": "stdout",
     "output_type": "stream",
     "text": [
      "Shape of x: (768, 8)\n",
      "Shape of y: (768,)\n"
     ]
    }
   ],
   "source": [
    "from sklearn import datasets\n",
    "import numpy\n",
    "\n",
    "x_sparse, y = datasets.load_svmlight_file('diabetes')\n",
    "x = x_sparse.todense()\n",
    "\n",
    "print('Shape of x: ' + str(x.shape))\n",
    "print('Shape of y: ' + str(y.shape))"
   ]
  },
  {
   "cell_type": "markdown",
   "metadata": {},
   "source": [
    "## 1.2. Partition to training and test sets"
   ]
  },
  {
   "cell_type": "code",
   "execution_count": 2,
   "metadata": {},
   "outputs": [
    {
     "name": "stdout",
     "output_type": "stream",
     "text": [
      "Shape of x_train: (615, 8)\n",
      "Shape of x_test: (153, 8)\n",
      "Shape of y_train: (615, 1)\n",
      "Shape of y_test: (153, 1)\n"
     ]
    }
   ],
   "source": [
    "# partition the data to training and test sets\n",
    "n = x.shape[0]\n",
    "n_train = int(numpy.ceil(n * 0.8))\n",
    "n_test = n - n_train\n",
    "\n",
    "rand_indices = numpy.random.permutation(n)\n",
    "train_indices = rand_indices[0:n_train]\n",
    "test_indices = rand_indices[n_train:n]\n",
    "\n",
    "x_train = x[train_indices, :]\n",
    "x_test = x[test_indices, :]\n",
    "y_train = y[train_indices].reshape(n_train, 1)\n",
    "y_test = y[test_indices].reshape(n_test, 1)\n",
    "\n",
    "print('Shape of x_train: ' + str(x_train.shape))\n",
    "print('Shape of x_test: ' + str(x_test.shape))\n",
    "print('Shape of y_train: ' + str(y_train.shape))\n",
    "print('Shape of y_test: ' + str(y_test.shape))"
   ]
  },
  {
   "cell_type": "markdown",
   "metadata": {},
   "source": [
    "## 1.3. Feature scaling"
   ]
  },
  {
   "cell_type": "markdown",
   "metadata": {},
   "source": [
    "Use the standardization to trainsform both training and test features"
   ]
  },
  {
   "cell_type": "code",
   "execution_count": 3,
   "metadata": {},
   "outputs": [
    {
     "name": "stdout",
     "output_type": "stream",
     "text": [
      "test mean = \n",
      "[[ 0.10534795  0.13674237 -0.0289981   0.10007497  0.0225745   0.01612211\n",
      "   0.072617    0.02341705]]\n",
      "test std = \n",
      "[[1.08189544 1.00352613 0.89388784 0.98417259 0.91724113 0.8416986\n",
      "  1.08027531 0.93548357]]\n"
     ]
    }
   ],
   "source": [
    "# Standardization\n",
    "import numpy\n",
    "\n",
    "# calculate mu and sig using the training set\n",
    "d = x_train.shape[1]\n",
    "mu = numpy.mean(x_train, axis=0).reshape(1, d)\n",
    "sig = numpy.std(x_train, axis=0).reshape(1, d)\n",
    "\n",
    "# transform the training features\n",
    "x_train = (x_train - mu) / (sig + 1E-6)\n",
    "\n",
    "# transform the test features\n",
    "x_test = (x_test - mu) / (sig + 1E-6)\n",
    "\n",
    "print('test mean = ')\n",
    "print(numpy.mean(x_test, axis=0))\n",
    "\n",
    "print('test std = ')\n",
    "print(numpy.std(x_test, axis=0))"
   ]
  },
  {
   "cell_type": "markdown",
   "metadata": {},
   "source": [
    "## 1.4. Add a dimension of all ones"
   ]
  },
  {
   "cell_type": "code",
   "execution_count": 4,
   "metadata": {},
   "outputs": [
    {
     "name": "stdout",
     "output_type": "stream",
     "text": [
      "Shape of x_train: (615, 9)\n",
      "Shape of x_test: (153, 9)\n"
     ]
    }
   ],
   "source": [
    "n_train, d = x_train.shape\n",
    "x_train = numpy.concatenate((x_train, numpy.ones((n_train, 1))), axis=1)\n",
    "\n",
    "n_test, d = x_test.shape\n",
    "x_test = numpy.concatenate((x_test, numpy.ones((n_test, 1))), axis=1)\n",
    "\n",
    "print('Shape of x_train: ' + str(x_train.shape))\n",
    "print('Shape of x_test: ' + str(x_test.shape))"
   ]
  },
  {
   "cell_type": "markdown",
   "metadata": {},
   "source": [
    "# 2. Logistic regression model\n",
    "\n",
    "The objective function is $Q (w; X, y) = \\frac{1}{n} \\sum_{i=1}^n \\log \\Big( 1 + \\exp \\big( - y_i x_i^T w \\big) \\Big) + \\frac{\\lambda}{2} \\| w \\|_2^2 $."
   ]
  },
  {
   "cell_type": "code",
   "execution_count": 5,
   "metadata": {},
   "outputs": [],
   "source": [
    "# Calculate the objective function value\n",
    "# Inputs:\n",
    "#     w: d-by-1 matrix\n",
    "#     x: n-by-d matrix\n",
    "#     y: n-by-1 matrix\n",
    "#     lam: scalar, the regularization parameter\n",
    "# Return:\n",
    "#     objective function value (scalar)\n",
    "def objective(w, x, y, lam):\n",
    "    n, d = x.shape\n",
    "    yx = numpy.multiply(y, x) # n-by-d matrix\n",
    "    yxw = numpy.dot(yx, w) # n-by-1 matrix\n",
    "    vec1 = numpy.exp(-yxw) # n-by-1 matrix\n",
    "    vec2 = numpy.log(1 + vec1) # n-by-1 matrix\n",
    "    loss = numpy.mean(vec2) # scalar\n",
    "    reg = lam / 2 * numpy.sum(w * w) # scalar\n",
    "    return loss + reg\n",
    "    "
   ]
  },
  {
   "cell_type": "code",
   "execution_count": 6,
   "metadata": {},
   "outputs": [
    {
     "name": "stdout",
     "output_type": "stream",
     "text": [
      "Initial objective function value = 0.6931471805599453\n"
     ]
    }
   ],
   "source": [
    "# initialize w\n",
    "d = x_train.shape[1]\n",
    "w = numpy.zeros((d, 1))\n",
    "\n",
    "# evaluate the objective function value at w\n",
    "lam = 1E-6\n",
    "objval0 = objective(w, x_train, y_train, lam)\n",
    "print('Initial objective function value = ' + str(objval0))"
   ]
  },
  {
   "cell_type": "markdown",
   "metadata": {},
   "source": [
    "# 3. Numerical optimization"
   ]
  },
  {
   "cell_type": "markdown",
   "metadata": {},
   "source": [
    "## 3.1. Gradient descent\n"
   ]
  },
  {
   "cell_type": "markdown",
   "metadata": {},
   "source": [
    "The gradient at $w$ is $g = - \\frac{1}{n} \\sum_{i=1}^n \\frac{y_i x_i }{1 + \\exp ( y_i x_i^T w)} + \\lambda w$"
   ]
  },
  {
   "cell_type": "code",
   "execution_count": 7,
   "metadata": {},
   "outputs": [],
   "source": [
    "# Calculate the gradient\n",
    "# Inputs:\n",
    "#     w: d-by-1 matrix\n",
    "#     x: n-by-d matrix\n",
    "#     y: n-by-1 matrix\n",
    "#     lam: scalar, the regularization parameter\n",
    "# Return:\n",
    "#     g: g: d-by-1 matrix, full gradient\n",
    "def gradient(w, x, y, lam):\n",
    "    n, d = x.shape\n",
    "    yx = numpy.multiply(y, x) # n-by-d matrix\n",
    "    yxw = numpy.dot(yx, w) # n-by-1 matrix\n",
    "    vec1 = numpy.exp(yxw) # n-by-1 matrix\n",
    "    vec2 = numpy.divide(yx, 1+vec1) # n-by-d matrix\n",
    "    vec3 = -numpy.mean(vec2, axis=0).reshape(d, 1) # d-by-1 matrix\n",
    "    g = vec3 + lam * w\n",
    "    return g"
   ]
  },
  {
   "cell_type": "code",
   "execution_count": 8,
   "metadata": {},
   "outputs": [],
   "source": [
    "# Gradient descent for solving logistic regression\n",
    "# Inputs:\n",
    "#     x: n-by-d matrix\n",
    "#     y: n-by-1 matrix\n",
    "#     lam: scalar, the regularization parameter\n",
    "#     stepsize: scalar\n",
    "#     max_iter: integer, the maximal iterations\n",
    "#     w: d-by-1 matrix, initialization of w\n",
    "# Return:\n",
    "#     w: d-by-1 matrix, the solution\n",
    "#     objvals: a record of each iteration's objective value\n",
    "def grad_descent(x, y, lam, stepsize, max_iter=100, w=None):\n",
    "    n, d = x.shape\n",
    "    objvals = numpy.zeros(max_iter) # store the objective values\n",
    "    if w is None:\n",
    "        w = numpy.zeros((d, 1)) # zero initialization\n",
    "    \n",
    "    for t in range(max_iter):\n",
    "        objval = objective(w, x, y, lam)\n",
    "        objvals[t] = objval\n",
    "        print('Objective value at t=' + str(t) + ' is ' + str(objval))\n",
    "        g = gradient(w, x, y, lam)\n",
    "        w -= stepsize * g\n",
    "    \n",
    "    return w, objvals"
   ]
  },
  {
   "cell_type": "markdown",
   "metadata": {},
   "source": [
    "Run gradient descent."
   ]
  },
  {
   "cell_type": "code",
   "execution_count": 9,
   "metadata": {},
   "outputs": [
    {
     "name": "stdout",
     "output_type": "stream",
     "text": [
      "Objective value at t=0 is 0.6931471805599453\n",
      "Objective value at t=1 is 0.5878226860847418\n",
      "Objective value at t=2 is 0.5442430333198072\n",
      "Objective value at t=3 is 0.5205678693235409\n",
      "Objective value at t=4 is 0.5057336647419607\n",
      "Objective value at t=5 is 0.4956767427896203\n",
      "Objective value at t=6 is 0.488515503285336\n",
      "Objective value at t=7 is 0.48324158887389185\n",
      "Objective value at t=8 is 0.4792599322971963\n",
      "Objective value at t=9 is 0.4761952443619431\n",
      "Objective value at t=10 is 0.4737992328125061\n",
      "Objective value at t=11 is 0.4719015817029647\n",
      "Objective value at t=12 is 0.4703820904209012\n",
      "Objective value at t=13 is 0.46915393348918244\n",
      "Objective value at t=14 is 0.4681531581417179\n",
      "Objective value at t=15 is 0.467331864381063\n",
      "Objective value at t=16 is 0.4666536494227275\n",
      "Objective value at t=17 is 0.4660904914142415\n",
      "Objective value at t=18 is 0.46562057352701003\n",
      "Objective value at t=19 is 0.46522673703582645\n",
      "Objective value at t=20 is 0.4648953637780459\n",
      "Objective value at t=21 is 0.46461555706827273\n",
      "Objective value at t=22 is 0.4643785334524517\n",
      "Objective value at t=23 is 0.4641771656097833\n",
      "Objective value at t=24 is 0.464005635074086\n",
      "Objective value at t=25 is 0.4638591657362796\n",
      "Objective value at t=26 is 0.4637338174473103\n",
      "Objective value at t=27 is 0.4636263248078739\n",
      "Objective value at t=28 is 0.4635339702647194\n",
      "Objective value at t=29 is 0.4634544834897426\n",
      "Objective value at t=30 is 0.46338596106472074\n",
      "Objective value at t=31 is 0.4633268019770282\n",
      "Objective value at t=32 is 0.4632756555165907\n",
      "Objective value at t=33 is 0.4632313789659372\n",
      "Objective value at t=34 is 0.4631930030728908\n",
      "Objective value at t=35 is 0.463159703744865\n",
      "Objective value at t=36 is 0.4631307787444157\n",
      "Objective value at t=37 is 0.4631056284259038\n",
      "Objective value at t=38 is 0.4630837397532949\n",
      "Objective value at t=39 is 0.4630646729941491\n",
      "Objective value at t=40 is 0.46304805060568327\n",
      "Objective value at t=41 is 0.46303354792354295\n",
      "Objective value at t=42 is 0.4630208853386425\n",
      "Objective value at t=43 is 0.46300982170667915\n",
      "Objective value at t=44 is 0.46300014878214996\n",
      "Objective value at t=45 is 0.46299168650650907\n",
      "Objective value at t=46 is 0.4629842790105321\n",
      "Objective value at t=47 is 0.4629777912155291\n",
      "Objective value at t=48 is 0.4629721059380008\n",
      "Objective value at t=49 is 0.4629671214185711\n",
      "Objective value at t=50 is 0.46296274920931657\n",
      "Objective value at t=51 is 0.4629589123645105\n",
      "Objective value at t=52 is 0.4629555438887708\n",
      "Objective value at t=53 is 0.4629525854040083\n",
      "Objective value at t=54 is 0.46294998600271237\n",
      "Objective value at t=55 is 0.4629477012602095\n",
      "Objective value at t=56 is 0.46294569238277594\n",
      "Objective value at t=57 is 0.46294392547203406\n",
      "Objective value at t=58 is 0.4629423708890344\n",
      "Objective value at t=59 is 0.4629410027039169\n",
      "Objective value at t=60 is 0.4629397982191411\n",
      "Objective value at t=61 is 0.46293873755604503\n",
      "Objective value at t=62 is 0.46293780329598616\n",
      "Objective value at t=63 is 0.46293698016858015\n",
      "Objective value at t=64 is 0.4629362547806249\n",
      "Objective value at t=65 is 0.4629356153802119\n",
      "Objective value at t=66 is 0.46293505165129784\n",
      "Objective value at t=67 is 0.46293455453466986\n",
      "Objective value at t=68 is 0.4629341160718067\n",
      "Objective value at t=69 is 0.462933729268614\n",
      "Objective value at t=70 is 0.4629333879764286\n",
      "Objective value at t=71 is 0.46293308678803985\n",
      "Objective value at t=72 is 0.46293282094678\n",
      "Objective value at t=73 is 0.46293258626699596\n",
      "Objective value at t=74 is 0.4629323790644407\n",
      "Objective value at t=75 is 0.4629321960953159\n",
      "Objective value at t=76 is 0.4629320345028649\n",
      "Objective value at t=77 is 0.4629318917705588\n",
      "Objective value at t=78 is 0.4629317656810419\n",
      "Objective value at t=79 is 0.4629316542801159\n",
      "Objective value at t=80 is 0.46293155584512846\n",
      "Objective value at t=81 is 0.4629314688572174\n",
      "Objective value at t=82 is 0.4629313919769328\n",
      "Objective value at t=83 is 0.4629313240228151\n",
      "Objective value at t=84 is 0.4629312639525682\n",
      "Objective value at t=85 is 0.46293121084650407\n",
      "Objective value at t=86 is 0.46293116389298256\n",
      "Objective value at t=87 is 0.46293112237560125\n",
      "Objective value at t=88 is 0.4629310856619223\n",
      "Objective value at t=89 is 0.46293105319354766\n",
      "Objective value at t=90 is 0.4629310244773816\n",
      "Objective value at t=91 is 0.46293099907793395\n",
      "Objective value at t=92 is 0.4629309766105401\n",
      "Objective value at t=93 is 0.46293095673538615\n",
      "Objective value at t=94 is 0.4629309391522443\n",
      "Objective value at t=95 is 0.4629309235958293\n",
      "Objective value at t=96 is 0.4629309098317069\n",
      "Objective value at t=97 is 0.4629308976526839\n",
      "Objective value at t=98 is 0.4629308868756234\n",
      "Objective value at t=99 is 0.4629308773386368\n"
     ]
    }
   ],
   "source": [
    "lam = 1E-6\n",
    "stepsize = 1.0\n",
    "w, objvals_gd = grad_descent(x_train, y_train, lam, stepsize)"
   ]
  },
  {
   "cell_type": "markdown",
   "metadata": {},
   "source": [
    "## 3.2. Stochastic gradient descent (SGD)\n",
    "\n",
    "Define $Q_i (w) = \\log \\Big( 1 + \\exp \\big( - y_i x_i^T w \\big) \\Big) + \\frac{\\lambda}{2} \\| w \\|_2^2 $.\n",
    "\n",
    "The stochastic gradient at $w$ is $g_i = \\frac{\\partial Q_i }{ \\partial w} = -\\frac{y_i x_i }{1 + \\exp ( y_i x_i^T w)} + \\lambda w$."
   ]
  },
  {
   "cell_type": "code",
   "execution_count": 10,
   "metadata": {},
   "outputs": [],
   "source": [
    "# Calculate the objective Q_i and the gradient of Q_i\n",
    "# Inputs:\n",
    "#     w: d-by-1 matrix\n",
    "#     xi: 1-by-d matrix\n",
    "#     yi: scalar\n",
    "#     lam: scalar, the regularization parameter\n",
    "# Return:\n",
    "#     obj: scalar, the objective Q_i\n",
    "#     g: d-by-1 matrix, gradient of Q_i\n",
    "def stochastic_objective_gradient(w, xi, yi, lam):\n",
    "    d = xi.shape[0]\n",
    "    yx = yi * xi # 1-by-d matrix\n",
    "    yxw = float(numpy.dot(yx, w)) # scalar\n",
    "    \n",
    "    # calculate objective function Q_i\n",
    "    loss = numpy.log(1 + numpy.exp(-yxw)) # scalar\n",
    "    reg = lam / 2 * numpy.sum(w * w) # scalar\n",
    "    obj = loss + reg\n",
    "    \n",
    "    # calculate stochastic gradient\n",
    "    g_loss = -yx.T / (1 + numpy.exp(yxw)) # d-by-1 matrix\n",
    "    g = g_loss + lam * w # d-by-1 matrix\n",
    "    \n",
    "    return obj, g"
   ]
  },
  {
   "cell_type": "code",
   "execution_count": 11,
   "metadata": {},
   "outputs": [],
   "source": [
    "# SGD for solving logistic regression\n",
    "# Inputs:\n",
    "#     x: n-by-d matrix\n",
    "#     y: n-by-1 matrix\n",
    "#     lam: scalar, the regularization parameter\n",
    "#     stepsize: scalar\n",
    "#     max_epoch: integer, the maximal epochs\n",
    "#     w: d-by-1 matrix, initialization of w\n",
    "# Return:\n",
    "#     w: the solution\n",
    "#     objvals: record of each iteration's objective value\n",
    "def sgd(x, y, lam, stepsize, max_epoch=100, w=None):\n",
    "    n, d = x.shape\n",
    "    objvals = numpy.zeros(max_epoch) # store the objective values\n",
    "    if w is None:\n",
    "        w = numpy.zeros((d, 1)) # zero initialization\n",
    "    \n",
    "    for t in range(max_epoch):\n",
    "        # randomly shuffle the samples\n",
    "        rand_indices = numpy.random.permutation(n)\n",
    "        x_rand = x[rand_indices, :]\n",
    "        y_rand = y[rand_indices, :]\n",
    "        \n",
    "        objval = 0 # accumulate the objective values\n",
    "        for i in range(n):\n",
    "            xi = x_rand[i, :] # 1-by-d matrix\n",
    "            yi = float(y_rand[i, :]) # scalar\n",
    "            obj, g = stochastic_objective_gradient(w, xi, yi, lam)\n",
    "            objval += obj\n",
    "            w -= stepsize * g\n",
    "        \n",
    "        stepsize *= 0.9 # decrease step size\n",
    "        objval /= n\n",
    "        objvals[t] = objval\n",
    "        print('Objective value at epoch t=' + str(t) + ' is ' + str(objval))\n",
    "    \n",
    "    return w, objvals"
   ]
  },
  {
   "cell_type": "markdown",
   "metadata": {},
   "source": [
    "Run SGD."
   ]
  },
  {
   "cell_type": "code",
   "execution_count": 12,
   "metadata": {},
   "outputs": [
    {
     "name": "stdout",
     "output_type": "stream",
     "text": [
      "Objective value at epoch t=0 is 0.5297935144149869\n",
      "Objective value at epoch t=1 is 0.5087018143540204\n",
      "Objective value at epoch t=2 is 0.5060794626733475\n",
      "Objective value at epoch t=3 is 0.4999317902079117\n",
      "Objective value at epoch t=4 is 0.5007558758194085\n",
      "Objective value at epoch t=5 is 0.48689546768863623\n",
      "Objective value at epoch t=6 is 0.49515603108692013\n",
      "Objective value at epoch t=7 is 0.4850332758654059\n",
      "Objective value at epoch t=8 is 0.48664852272696174\n",
      "Objective value at epoch t=9 is 0.48267068325141166\n",
      "Objective value at epoch t=10 is 0.4834604958605359\n",
      "Objective value at epoch t=11 is 0.4798680080023802\n",
      "Objective value at epoch t=12 is 0.4780509272991327\n",
      "Objective value at epoch t=13 is 0.4780745780790249\n",
      "Objective value at epoch t=14 is 0.4771985254538953\n",
      "Objective value at epoch t=15 is 0.4764180407578245\n",
      "Objective value at epoch t=16 is 0.4729554938752012\n",
      "Objective value at epoch t=17 is 0.47322312182768156\n",
      "Objective value at epoch t=18 is 0.4722928141704468\n",
      "Objective value at epoch t=19 is 0.47083141692491715\n",
      "Objective value at epoch t=20 is 0.4711408877254871\n",
      "Objective value at epoch t=21 is 0.4694234517059682\n",
      "Objective value at epoch t=22 is 0.46964736721077865\n",
      "Objective value at epoch t=23 is 0.46783921237239484\n",
      "Objective value at epoch t=24 is 0.4683714882382102\n",
      "Objective value at epoch t=25 is 0.46769036098914635\n",
      "Objective value at epoch t=26 is 0.4674043255842369\n",
      "Objective value at epoch t=27 is 0.4667424609630689\n",
      "Objective value at epoch t=28 is 0.4664636295740088\n",
      "Objective value at epoch t=29 is 0.46623569273585336\n",
      "Objective value at epoch t=30 is 0.4660404809176774\n",
      "Objective value at epoch t=31 is 0.4656416299411593\n",
      "Objective value at epoch t=32 is 0.4654426267962498\n",
      "Objective value at epoch t=33 is 0.4651207859458253\n",
      "Objective value at epoch t=34 is 0.4649577292932231\n",
      "Objective value at epoch t=35 is 0.46473529092917576\n",
      "Objective value at epoch t=36 is 0.464575459115986\n",
      "Objective value at epoch t=37 is 0.46444206850294717\n",
      "Objective value at epoch t=38 is 0.4642410683971458\n",
      "Objective value at epoch t=39 is 0.46411585440410424\n",
      "Objective value at epoch t=40 is 0.46401549610316806\n",
      "Objective value at epoch t=41 is 0.4638992519131642\n",
      "Objective value at epoch t=42 is 0.4638218271741159\n",
      "Objective value at epoch t=43 is 0.46372933264400434\n",
      "Objective value at epoch t=44 is 0.46363734688041885\n",
      "Objective value at epoch t=45 is 0.4635781193091333\n",
      "Objective value at epoch t=46 is 0.4635125517713568\n",
      "Objective value at epoch t=47 is 0.4634578806638493\n",
      "Objective value at epoch t=48 is 0.46340494026806506\n",
      "Objective value at epoch t=49 is 0.46335634544610105\n",
      "Objective value at epoch t=50 is 0.46331404287051337\n",
      "Objective value at epoch t=51 is 0.4632772670945938\n",
      "Objective value at epoch t=52 is 0.46324236506562444\n",
      "Objective value at epoch t=53 is 0.46321127992789146\n",
      "Objective value at epoch t=54 is 0.46318312378300625\n",
      "Objective value at epoch t=55 is 0.4631581640665488\n",
      "Objective value at epoch t=56 is 0.46313612124260234\n",
      "Objective value at epoch t=57 is 0.46311535020653255\n",
      "Objective value at epoch t=58 is 0.4630969422172799\n",
      "Objective value at epoch t=59 is 0.46308026944908526\n",
      "Objective value at epoch t=60 is 0.4630654939302042\n",
      "Objective value at epoch t=61 is 0.46305219558572397\n",
      "Objective value at epoch t=62 is 0.46304022057633853\n",
      "Objective value at epoch t=63 is 0.4630292099871576\n",
      "Objective value at epoch t=64 is 0.46301948291797257\n",
      "Objective value at epoch t=65 is 0.463010528377447\n",
      "Objective value at epoch t=66 is 0.4630027143734126\n",
      "Objective value at epoch t=67 is 0.46299554775738166\n",
      "Objective value at epoch t=68 is 0.4629891635480972\n",
      "Objective value at epoch t=69 is 0.46298333717223755\n",
      "Objective value at epoch t=70 is 0.46297812856094606\n",
      "Objective value at epoch t=71 is 0.4629734323449239\n",
      "Objective value at epoch t=72 is 0.46296923671250384\n",
      "Objective value at epoch t=73 is 0.4629654232314937\n",
      "Objective value at epoch t=74 is 0.4629620074378714\n",
      "Objective value at epoch t=75 is 0.46295892713326264\n",
      "Objective value at epoch t=76 is 0.46295616113498084\n",
      "Objective value at epoch t=77 is 0.462953657201688\n",
      "Objective value at epoch t=78 is 0.462951418147838\n",
      "Objective value at epoch t=79 is 0.4629493869684575\n",
      "Objective value at epoch t=80 is 0.46294757816858084\n",
      "Objective value at epoch t=81 is 0.46294593990744887\n",
      "Objective value at epoch t=82 is 0.46294447167190994\n",
      "Objective value at epoch t=83 is 0.4629431453730877\n",
      "Objective value at epoch t=84 is 0.4629419518513292\n",
      "Objective value at epoch t=85 is 0.4629408774046477\n",
      "Objective value at epoch t=86 is 0.4629399100698916\n",
      "Objective value at epoch t=87 is 0.462939041249244\n",
      "Objective value at epoch t=88 is 0.46293825769805896\n",
      "Objective value at epoch t=89 is 0.46293755335968445\n",
      "Objective value at epoch t=90 is 0.46293691893260164\n",
      "Objective value at epoch t=91 is 0.4629363476818913\n",
      "Objective value at epoch t=92 is 0.4629358337241035\n",
      "Objective value at epoch t=93 is 0.4629353718145355\n",
      "Objective value at epoch t=94 is 0.46293495544918395\n",
      "Objective value at epoch t=95 is 0.46293458052937986\n",
      "Objective value at epoch t=96 is 0.4629342437248648\n",
      "Objective value at epoch t=97 is 0.46293394038099267\n",
      "Objective value at epoch t=98 is 0.4629336671435626\n",
      "Objective value at epoch t=99 is 0.46293342144061883\n"
     ]
    }
   ],
   "source": [
    "lam = 1E-6\n",
    "stepsize = 0.1\n",
    "w, objvals_sgd = sgd(x_train, y_train, lam, stepsize)"
   ]
  },
  {
   "cell_type": "markdown",
   "metadata": {},
   "source": [
    "# 4. Compare GD with SGD\n",
    "\n",
    "Plot objective function values against epochs."
   ]
  },
  {
   "cell_type": "code",
   "execution_count": 13,
   "metadata": {},
   "outputs": [
    {
     "data": {
      "image/png": "[encoded data removed]",
      "text/plain": [
       "<Figure size 432x288 with 1 Axes>"
      ]
     },
     "metadata": {
      "needs_background": "light"
     },
     "output_type": "display_data"
    }
   ],
   "source": [
    "import matplotlib.pyplot as plt\n",
    "%matplotlib inline\n",
    "\n",
    "fig = plt.figure(figsize=(6, 4))\n",
    "\n",
    "epochs_gd = range(len(objvals_gd))\n",
    "epochs_sgd = range(len(objvals_sgd))\n",
    "\n",
    "line0, = plt.plot(epochs_gd, objvals_gd, '--b', LineWidth=4)\n",
    "line1, = plt.plot(epochs_sgd, objvals_sgd, '-r', LineWidth=2)\n",
    "plt.xlabel('Epochs', FontSize=20)\n",
    "plt.ylabel('Objective Value', FontSize=20)\n",
    "plt.xticks(FontSize=16)\n",
    "plt.yticks(FontSize=16)\n",
    "plt.legend([line0, line1], ['GD', 'SGD'], fontsize=20)\n",
    "plt.tight_layout()\n",
    "plt.show()\n",
    "fig.savefig('compare_gd_sgd.pdf', format='pdf', dpi=1200)"
   ]
  },
  {
   "cell_type": "markdown",
   "metadata": {},
   "source": [
    "# 5. Prediction"
   ]
  },
  {
   "cell_type": "code",
   "execution_count": 14,
   "metadata": {},
   "outputs": [],
   "source": [
    "# Predict class label\n",
    "# Inputs:\n",
    "#     w: d-by-1 matrix\n",
    "#     X: m-by-d matrix\n",
    "# Return:\n",
    "#     f: m-by-1 matrix, the predictions\n",
    "def predict(w, X):\n",
    "    xw = numpy.dot(X, w)\n",
    "    f = numpy.sign(xw)\n",
    "    return f"
   ]
  },
  {
   "cell_type": "code",
   "execution_count": 15,
   "metadata": {},
   "outputs": [
    {
     "name": "stdout",
     "output_type": "stream",
     "text": [
      "Training classification error is 0.21138211382113822\n"
     ]
    }
   ],
   "source": [
    "# evaluate training error\n",
    "f_train = predict(w, x_train)\n",
    "diff = numpy.abs(f_train - y_train) / 2\n",
    "error_train = numpy.mean(diff)\n",
    "print('Training classification error is ' + str(error_train))"
   ]
  },
  {
   "cell_type": "code",
   "execution_count": 16,
   "metadata": {},
   "outputs": [
    {
     "name": "stdout",
     "output_type": "stream",
     "text": [
      "Test classification error is 0.26143790849673204\n"
     ]
    }
   ],
   "source": [
    "# evaluate test error\n",
    "f_test = predict(w, x_test)\n",
    "diff = numpy.abs(f_test - y_test) / 2\n",
    "error_test = numpy.mean(diff)\n",
    "print('Test classification error is ' + str(error_test))"
   ]
  },
  {
   "cell_type": "markdown",
   "metadata": {},
   "source": [
    "# 6. Mini-batch SGD (fill the code)\n",
    "\n",
    "Define $Q_I (w) = \\frac{1}{b} \\sum_{i \\in I} \\log \\Big( 1 + \\exp \\big( - y_i x_i^T w \\big) \\Big) + \\frac{\\lambda}{2} \\| w \\|_2^2 $, where $I$ is a set containing $b$ indices randomly drawn from $\\{ 1, \\cdots , n \\}$ without replacement.\n",
    "\n",
    "The stochastic gradient at $w$ is $g_I = \\frac{\\partial Q_I }{ \\partial w} = \\frac{1}{b} \\sum_{i \\in I} \\frac{- y_i x_i }{1 + \\exp ( y_i x_i^T w)} + \\lambda w$."
   ]
  },
  {
   "cell_type": "markdown",
   "metadata": {},
   "source": [
    "## 6.1. Compute the objective $Q_I$ and its gradient using a batch of samples"
   ]
  },
  {
   "cell_type": "code",
   "execution_count": 17,
   "metadata": {},
   "outputs": [],
   "source": [
    "# Calculate the objective Q_I and the gradient of Q_I\n",
    "# Inputs:\n",
    "#     w: d-by-1 matrix\n",
    "#     xi: b-by-d matrix\n",
    "#     yi: b-by-1 matrix\n",
    "#     lam: scalar, the regularization parameter\n",
    "#     b: integer, the batch size\n",
    "# Return:\n",
    "#     obj: scalar, the average objective Q_i\n",
    "#     g: d-by-1 matrix, average gradient of Q_i\n",
    "def mb_stochastic_objective_gradient(w, xi, yi, lam, b):\n",
    "    # Fill the function\n",
    "    # Follow the implementation of stochastic_objective_gradient\n",
    "    # Use matrix-vector multiplication; do not use FOR LOOP of vector-vector multiplications\n",
    "    d = xi.shape[0]\n",
    "    yx = yi * xi # b-by-d matrix\n",
    "    yxw = numpy.dot(yx, w) # b-by-1 matrix\n",
    "    \n",
    "    # calculate objective function Q_i\n",
    "    loss = numpy.mean(numpy.log(1 + numpy.exp(-yxw))) # scalar\n",
    "    reg = lam / 2 * numpy.sum(w * w) # scalar\n",
    "    obj = loss + reg\n",
    "    \n",
    "    # calculate stochastic gradient\n",
    "    g_loss = numpy.mean(-yx.T / (1 + numpy.exp(yxw).T), axis=1).reshape((-1, 1)) # d-by-1 matrix\n",
    "    g = g_loss + lam * w # d-by-1 matrix\n",
    "    \n",
    "    return obj, g"
   ]
  },
  {
   "cell_type": "markdown",
   "metadata": {},
   "source": [
    "## 6.2. Implement mini-batch SGD"
   ]
  },
  {
   "cell_type": "code",
   "execution_count": 21,
   "metadata": {},
   "outputs": [],
   "source": [
    "# Mini-Batch SGD for solving logistic regression\n",
    "# Inputs:\n",
    "#     x: n-by-d matrix\n",
    "#     y: n-by-1 matrix\n",
    "#     lam: scalar, the regularization parameter\n",
    "#     b: integer, the batch size\n",
    "#     stepsize: scalar\n",
    "#     max_epoch: integer, the maximal epochs\n",
    "#     w: d-by-1 matrix, initialization of w\n",
    "# Return:\n",
    "#     w: the solution\n",
    "#     objvals: record of each iteration's objective value\n",
    "def mb_sgd(x, y, lam, b, stepsize, max_epoch=100, w=None):\n",
    "    # Fill the function\n",
    "    # Follow the implementation of sgd\n",
    "    # Record one objective value per epoch (not per iteration!)\n",
    "    n, d = x.shape\n",
    "    objvals = numpy.zeros(max_epoch) # store the objective values\n",
    "    if w is None:\n",
    "        w = numpy.zeros((d, 1)) # zero initialization\n",
    "    \n",
    "    for t in range(max_epoch):\n",
    "        # randomly shuffle the samples\n",
    "        rand_indices = numpy.random.permutation(n)\n",
    "        x_rand = x[rand_indices, :]\n",
    "        y_rand = y[rand_indices, :]\n",
    "        \n",
    "        objval = 0 # accumulate the objective values\n",
    "        for i in range(0, n, b):\n",
    "            end = i + b  # last index of a batch\n",
    "            xi = numpy.array(x_rand[i:end, :]) # b-by-d matrix\n",
    "            yi = numpy.array(y_rand[i:end, :]) # b-by-1 matrix\n",
    "            obj, g = mb_stochastic_objective_gradient(w, xi, yi, lam, b)\n",
    "            objval += obj\n",
    "            w -= stepsize * g\n",
    "        \n",
    "        stepsize *= 0.9 # decrease step size\n",
    "        objval /= numpy.ceil(n / b) # batch number\n",
    "        objvals[t] = objval\n",
    "        print('Objective value at epoch t=' + str(t) + ' is ' + str(objval))\n",
    "    \n",
    "    return w, objvals"
   ]
  },
  {
   "cell_type": "markdown",
   "metadata": {},
   "source": [
    "## 6.3. Run MB-SGD"
   ]
  },
  {
   "cell_type": "code",
   "execution_count": 22,
   "metadata": {},
   "outputs": [
    {
     "name": "stdout",
     "output_type": "stream",
     "text": [
      "Objective value at epoch t=0 is 0.5160695727776606\n",
      "Objective value at epoch t=1 is 0.500803999455776\n",
      "Objective value at epoch t=2 is 0.5004850017240083\n",
      "Objective value at epoch t=3 is 0.48723640408434915\n",
      "Objective value at epoch t=4 is 0.49294786200889845\n",
      "Objective value at epoch t=5 is 0.48379494643872994\n",
      "Objective value at epoch t=6 is 0.4865672709816906\n",
      "Objective value at epoch t=7 is 0.4799693062894567\n",
      "Objective value at epoch t=8 is 0.48304997270166344\n",
      "Objective value at epoch t=9 is 0.4782159369485864\n",
      "Objective value at epoch t=10 is 0.48177555657929017\n",
      "Objective value at epoch t=11 is 0.47710070301757085\n",
      "Objective value at epoch t=12 is 0.47689090982824334\n",
      "Objective value at epoch t=13 is 0.47378269742939527\n",
      "Objective value at epoch t=14 is 0.4743749552379446\n",
      "Objective value at epoch t=15 is 0.47390503812416146\n",
      "Objective value at epoch t=16 is 0.47165439376869706\n",
      "Objective value at epoch t=17 is 0.4695332908288744\n",
      "Objective value at epoch t=18 is 0.4707975884526623\n",
      "Objective value at epoch t=19 is 0.46951986665232903\n",
      "Objective value at epoch t=20 is 0.4693334987580182\n",
      "Objective value at epoch t=21 is 0.4678752577754345\n",
      "Objective value at epoch t=22 is 0.46804557548206155\n",
      "Objective value at epoch t=23 is 0.4670124253244002\n",
      "Objective value at epoch t=24 is 0.46675124084702596\n",
      "Objective value at epoch t=25 is 0.46739491404166955\n",
      "Objective value at epoch t=26 is 0.4663423549314105\n",
      "Objective value at epoch t=27 is 0.4662234809855571\n",
      "Objective value at epoch t=28 is 0.46673816061375395\n",
      "Objective value at epoch t=29 is 0.46508124315398275\n",
      "Objective value at epoch t=30 is 0.4650161911943293\n",
      "Objective value at epoch t=31 is 0.4650456708755586\n",
      "Objective value at epoch t=32 is 0.464831401834552\n",
      "Objective value at epoch t=33 is 0.4643898213769382\n",
      "Objective value at epoch t=34 is 0.4643970845460624\n",
      "Objective value at epoch t=35 is 0.4653858516904831\n",
      "Objective value at epoch t=36 is 0.46476028153726495\n",
      "Objective value at epoch t=37 is 0.4641989438915162\n",
      "Objective value at epoch t=38 is 0.4636147232909483\n",
      "Objective value at epoch t=39 is 0.4634922178306733\n",
      "Objective value at epoch t=40 is 0.46355774749969353\n",
      "Objective value at epoch t=41 is 0.46415269942730514\n",
      "Objective value at epoch t=42 is 0.46354986523393854\n",
      "Objective value at epoch t=43 is 0.4634833815632536\n",
      "Objective value at epoch t=44 is 0.4632377903902442\n",
      "Objective value at epoch t=45 is 0.4632530647157602\n",
      "Objective value at epoch t=46 is 0.4639124025467266\n",
      "Objective value at epoch t=47 is 0.46322362694883185\n",
      "Objective value at epoch t=48 is 0.4634166066846616\n",
      "Objective value at epoch t=49 is 0.462959203746021\n",
      "Objective value at epoch t=50 is 0.4634797995948001\n",
      "Objective value at epoch t=51 is 0.4635012958890518\n",
      "Objective value at epoch t=52 is 0.4638794183664485\n",
      "Objective value at epoch t=53 is 0.46285358009003935\n",
      "Objective value at epoch t=54 is 0.4631299069789602\n",
      "Objective value at epoch t=55 is 0.4638049618154182\n",
      "Objective value at epoch t=56 is 0.46308744492088566\n",
      "Objective value at epoch t=57 is 0.4634417810909451\n",
      "Objective value at epoch t=58 is 0.46355358962739485\n",
      "Objective value at epoch t=59 is 0.4629096300985615\n",
      "Objective value at epoch t=60 is 0.46319653040590186\n",
      "Objective value at epoch t=61 is 0.46310417816460464\n",
      "Objective value at epoch t=62 is 0.4630206832146605\n",
      "Objective value at epoch t=63 is 0.4628386558773871\n",
      "Objective value at epoch t=64 is 0.46293507922598287\n",
      "Objective value at epoch t=65 is 0.4627175175804822\n",
      "Objective value at epoch t=66 is 0.46293676964640235\n",
      "Objective value at epoch t=67 is 0.4628697066660515\n",
      "Objective value at epoch t=68 is 0.46258513584671784\n",
      "Objective value at epoch t=69 is 0.46284964948166946\n",
      "Objective value at epoch t=70 is 0.4631043431034332\n",
      "Objective value at epoch t=71 is 0.4626773536919418\n",
      "Objective value at epoch t=72 is 0.4629953411186917\n",
      "Objective value at epoch t=73 is 0.46246039129469696\n",
      "Objective value at epoch t=74 is 0.4629769942567528\n",
      "Objective value at epoch t=75 is 0.4629778990630557\n",
      "Objective value at epoch t=76 is 0.46284854907252326\n",
      "Objective value at epoch t=77 is 0.4624303840998275\n",
      "Objective value at epoch t=78 is 0.46341339164581963\n",
      "Objective value at epoch t=79 is 0.4633438131566824\n",
      "Objective value at epoch t=80 is 0.46260552563376794\n",
      "Objective value at epoch t=81 is 0.462871172948702\n",
      "Objective value at epoch t=82 is 0.4627567729876607\n",
      "Objective value at epoch t=83 is 0.4635463521491749\n",
      "Objective value at epoch t=84 is 0.46297969070289374\n",
      "Objective value at epoch t=85 is 0.4628721914060892\n",
      "Objective value at epoch t=86 is 0.46250950122300155\n",
      "Objective value at epoch t=87 is 0.46378660125474974\n",
      "Objective value at epoch t=88 is 0.4624244849805428\n",
      "Objective value at epoch t=89 is 0.46262970282632415\n",
      "Objective value at epoch t=90 is 0.46241787079709723\n",
      "Objective value at epoch t=91 is 0.46282281944023873\n",
      "Objective value at epoch t=92 is 0.4634688521505286\n",
      "Objective value at epoch t=93 is 0.4630733613025639\n",
      "Objective value at epoch t=94 is 0.4626327793290901\n",
      "Objective value at epoch t=95 is 0.4627818827595785\n",
      "Objective value at epoch t=96 is 0.46276968332360724\n",
      "Objective value at epoch t=97 is 0.4627665505465301\n",
      "Objective value at epoch t=98 is 0.4637869699424097\n",
      "Objective value at epoch t=99 is 0.46317607448221704\n"
     ]
    }
   ],
   "source": [
    "# MB-SGD with batch size b=8\n",
    "lam = 1E-6 # do not change\n",
    "b = 8 # do not change\n",
    "stepsize = 0.6 # you must tune this parameter\n",
    "\n",
    "w, objvals_mbsgd8 = mb_sgd(x_train, y_train, lam, b, stepsize)"
   ]
  },
  {
   "cell_type": "code",
   "execution_count": 23,
   "metadata": {},
   "outputs": [
    {
     "name": "stdout",
     "output_type": "stream",
     "text": [
      "Objective value at epoch t=0 is 0.5752978683998946\n",
      "Objective value at epoch t=1 is 0.49959817923450356\n",
      "Objective value at epoch t=2 is 0.47472864438966483\n",
      "Objective value at epoch t=3 is 0.47607585716698597\n",
      "Objective value at epoch t=4 is 0.4786327840517834\n",
      "Objective value at epoch t=5 is 0.46939088724990585\n",
      "Objective value at epoch t=6 is 0.46448115784998684\n",
      "Objective value at epoch t=7 is 0.4717617588360228\n",
      "Objective value at epoch t=8 is 0.4707354675680956\n",
      "Objective value at epoch t=9 is 0.4587923975598831\n",
      "Objective value at epoch t=10 is 0.46610678515986537\n",
      "Objective value at epoch t=11 is 0.4663818478084166\n",
      "Objective value at epoch t=12 is 0.4649702697805417\n",
      "Objective value at epoch t=13 is 0.4671591028172635\n",
      "Objective value at epoch t=14 is 0.46699334379109675\n",
      "Objective value at epoch t=15 is 0.46398230502090837\n",
      "Objective value at epoch t=16 is 0.4654147780473824\n",
      "Objective value at epoch t=17 is 0.4632480504452608\n",
      "Objective value at epoch t=18 is 0.46402068952567876\n",
      "Objective value at epoch t=19 is 0.4653258478267979\n",
      "Objective value at epoch t=20 is 0.46239406817258927\n",
      "Objective value at epoch t=21 is 0.4647504022440597\n",
      "Objective value at epoch t=22 is 0.46209900302567064\n",
      "Objective value at epoch t=23 is 0.4584339822623087\n",
      "Objective value at epoch t=24 is 0.46535718736165677\n",
      "Objective value at epoch t=25 is 0.45941891114295064\n",
      "Objective value at epoch t=26 is 0.4601406496890614\n",
      "Objective value at epoch t=27 is 0.46404728749501556\n",
      "Objective value at epoch t=28 is 0.4633525455648142\n",
      "Objective value at epoch t=29 is 0.45815539992645704\n",
      "Objective value at epoch t=30 is 0.4624773975664758\n",
      "Objective value at epoch t=31 is 0.4691144947797742\n",
      "Objective value at epoch t=32 is 0.4559319000064625\n",
      "Objective value at epoch t=33 is 0.46382959713340677\n",
      "Objective value at epoch t=34 is 0.46885801428798396\n",
      "Objective value at epoch t=35 is 0.4634083279484093\n",
      "Objective value at epoch t=36 is 0.4643180161993038\n",
      "Objective value at epoch t=37 is 0.4570796693748359\n",
      "Objective value at epoch t=38 is 0.46014299096707356\n",
      "Objective value at epoch t=39 is 0.4677620219133953\n",
      "Objective value at epoch t=40 is 0.461147217275004\n",
      "Objective value at epoch t=41 is 0.4607657812105487\n",
      "Objective value at epoch t=42 is 0.467877110300641\n",
      "Objective value at epoch t=43 is 0.46252421237489855\n",
      "Objective value at epoch t=44 is 0.46232458254676373\n",
      "Objective value at epoch t=45 is 0.46323676602761166\n",
      "Objective value at epoch t=46 is 0.4630832392086365\n",
      "Objective value at epoch t=47 is 0.45615545539615915\n",
      "Objective value at epoch t=48 is 0.4598983092753173\n",
      "Objective value at epoch t=49 is 0.4552872920155241\n",
      "Objective value at epoch t=50 is 0.46404918980358784\n",
      "Objective value at epoch t=51 is 0.46105929142875113\n",
      "Objective value at epoch t=52 is 0.45875659726992557\n",
      "Objective value at epoch t=53 is 0.4640173762522761\n",
      "Objective value at epoch t=54 is 0.4610846246995111\n",
      "Objective value at epoch t=55 is 0.46230063647883146\n",
      "Objective value at epoch t=56 is 0.4575390446092998\n",
      "Objective value at epoch t=57 is 0.4567624731516585\n",
      "Objective value at epoch t=58 is 0.45898184639752626\n",
      "Objective value at epoch t=59 is 0.46415459728554964\n",
      "Objective value at epoch t=60 is 0.46795022656733787\n",
      "Objective value at epoch t=61 is 0.4578857220049418\n",
      "Objective value at epoch t=62 is 0.46455732680644574\n",
      "Objective value at epoch t=63 is 0.460461943906214\n",
      "Objective value at epoch t=64 is 0.4671304364515786\n",
      "Objective value at epoch t=65 is 0.46805534440190366\n",
      "Objective value at epoch t=66 is 0.4628861145296428\n",
      "Objective value at epoch t=67 is 0.4685606373977854\n",
      "Objective value at epoch t=68 is 0.46436433173401587\n",
      "Objective value at epoch t=69 is 0.4584881409728127\n",
      "Objective value at epoch t=70 is 0.46051261724116443\n",
      "Objective value at epoch t=71 is 0.4609924077056592\n",
      "Objective value at epoch t=72 is 0.45791115496706325\n",
      "Objective value at epoch t=73 is 0.45658127039181595\n",
      "Objective value at epoch t=74 is 0.46455087485596785\n",
      "Objective value at epoch t=75 is 0.46679102207419143\n",
      "Objective value at epoch t=76 is 0.46633837706542297\n",
      "Objective value at epoch t=77 is 0.45899586334760734\n",
      "Objective value at epoch t=78 is 0.4669270309682133\n",
      "Objective value at epoch t=79 is 0.4657546857555019\n",
      "Objective value at epoch t=80 is 0.46575653866721567\n",
      "Objective value at epoch t=81 is 0.4688962233869688\n",
      "Objective value at epoch t=82 is 0.46488045687753654\n",
      "Objective value at epoch t=83 is 0.46257426921723505\n",
      "Objective value at epoch t=84 is 0.46409194678960464\n",
      "Objective value at epoch t=85 is 0.4581992686779398\n",
      "Objective value at epoch t=86 is 0.45833186524530933\n",
      "Objective value at epoch t=87 is 0.45747073958942536\n",
      "Objective value at epoch t=88 is 0.46257624024018595\n",
      "Objective value at epoch t=89 is 0.46079127942114584\n",
      "Objective value at epoch t=90 is 0.4598027572178111\n",
      "Objective value at epoch t=91 is 0.46198123447720824\n",
      "Objective value at epoch t=92 is 0.45839930792020595\n",
      "Objective value at epoch t=93 is 0.46138106894262493\n",
      "Objective value at epoch t=94 is 0.4593586244788554\n",
      "Objective value at epoch t=95 is 0.4601272420959788\n",
      "Objective value at epoch t=96 is 0.45797538215811484\n",
      "Objective value at epoch t=97 is 0.4610441367757752\n",
      "Objective value at epoch t=98 is 0.4599129553208786\n",
      "Objective value at epoch t=99 is 0.46078217332387866\n"
     ]
    }
   ],
   "source": [
    "# MB-SGD with batch size b=64\n",
    "lam = 1E-6 # do not change\n",
    "b = 64 # do not change\n",
    "stepsize = 0.5 # you must tune this parameter\n",
    "\n",
    "w, objvals_mbsgd64 = mb_sgd(x_train, y_train, lam, b, stepsize)"
   ]
  },
  {
   "cell_type": "markdown",
   "metadata": {},
   "source": [
    "# 7. Plot and compare GD, SGD, and MB-SGD"
   ]
  },
  {
   "cell_type": "markdown",
   "metadata": {},
   "source": [
    "You are required to compare the following algorithms:\n",
    "\n",
    "- Gradient descent (GD)\n",
    "\n",
    "- SGD\n",
    "\n",
    "- MB-SGD with b=8\n",
    "\n",
    "- MB-SGD with b=64\n",
    "\n",
    "Follow the code in Section 4 to plot ```objective function value``` against ```epochs```. There should be four curves in the plot; each curve corresponds to one algorithm."
   ]
  },
  {
   "cell_type": "code",
   "execution_count": 25,
   "metadata": {},
   "outputs": [
    {
     "data": {
      "image/png": "[encoded data removed]",
      "text/plain": [
       "<Figure size 720x432 with 1 Axes>"
      ]
     },
     "metadata": {
      "needs_background": "light"
     },
     "output_type": "display_data"
    }
   ],
   "source": [
    "# plot the 4 curves:\n",
    "fig = plt.figure(figsize=(10, 6))\n",
    "\n",
    "epochs_gd = range(len(objvals_gd))\n",
    "epochs_sgd = range(len(objvals_sgd))\n",
    "epochs_mbsgd8 = range(len(objvals_mbsgd8))\n",
    "epochs_mbsgd64 = range(len(objvals_mbsgd64))\n",
    "\n",
    "line0, = plt.plot(epochs_gd, objvals_gd, '--b', LineWidth=2)\n",
    "line1, = plt.plot(epochs_sgd, objvals_sgd, '-r', LineWidth=2)\n",
    "line2, = plt.plot(epochs_mbsgd8, objvals_mbsgd8, dashes=[2, 2], LineWidth=2)\n",
    "line3, = plt.plot(epochs_mbsgd64, objvals_mbsgd64, dashes=[2, 2, 10, 2], LineWidth=2)\n",
    "plt.xlabel('Epochs', FontSize=20)\n",
    "plt.ylabel('Objective Value', FontSize=20)\n",
    "plt.xticks(FontSize=16)\n",
    "plt.yticks(FontSize=16)\n",
    "plt.legend([line0, line1, line2, line3], ['GD', 'SGD', 'MB-SGD, b=8', 'MB-SGD, b=64'], fontsize=15)\n",
    "plt.tight_layout()\n",
    "plt.show()\n",
    "fig.savefig('compare_gd_sgd_mbsgd8_mbsgd64.pdf', format='pdf', dpi=1200)"
   ]
  },
  {
   "cell_type": "markdown",
   "metadata": {},
   "source": []
  }
 ],
 "metadata": {
  "kernelspec": {
   "display_name": "Python 3",
   "language": "python",
   "name": "python3"
  },
  "language_info": {
   "codemirror_mode": {
    "name": "ipython",
    "version": 3
   },
   "file_extension": ".py",
   "mimetype": "text/x-python",
   "name": "python",
   "nbconvert_exporter": "python",
   "pygments_lexer": "ipython3",
   "version": "3.7.3"
  }
 },
 "nbformat": 4,
 "nbformat_minor": 2
}
