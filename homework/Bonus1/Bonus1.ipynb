{
 "cells": [
  {
   "cell_type": "markdown",
   "metadata": {},
   "source": [
    "# Bonus 1: Numerical Optimization for Logistic Regression.\n",
    "\n",
    "### Name: [Chang Lu]\n",
    "### Stevens ID: 10449955\n"
   ]
  },
  {
   "cell_type": "markdown",
   "metadata": {},
   "source": [
    "## 0. You will do the following:\n",
    "\n",
    "1. Read the lecture note: [click here](https://github.com/wangshusen/DeepLearning/blob/master/LectureNotes/Logistic/paper/logistic.pdf)\n",
    "\n",
    "2. Read, complete, and run my code.\n",
    "\n",
    "3. **Implement mini-batch SGD** and evaluate the performance. (1 bonus point.)\n",
    "\n",
    "4. Convert the .IPYNB file to .HTML file.\n",
    "\n",
    "    * The HTML file must contain **the code** and **the output after execution**.\n",
    "    \n",
    "5. Upload this .HTML file to your Github repo.\n",
    "\n",
    "6. Submit the link to this .HTML file to Canvas.\n",
    "\n",
    "    * Example: https://github.com/wangshusen/CS583-2019F/blob/master/homework/Bonus1/Bonus1.html\n",
    "\n",
    "\n",
    "## Grading criteria:\n",
    "\n",
    "1. When computing the ```gradient``` and ```objective function value``` using a batch of samples, use **matrix-vector multiplication** rather than a FOR LOOP of **vector-vector multiplications**.\n",
    "\n",
    "2. Plot ```objective function value``` against ```epochs```. In the plot, compare GD, SGD, and MB-SGD (with $b=8$ and $b=64$). The plot must look reasonable."
   ]
  },
  {
   "cell_type": "code",
   "execution_count": null,
   "metadata": {},
   "outputs": [],
   "source": []
  },
  {
   "cell_type": "markdown",
   "metadata": {},
   "source": [
    "# 1. Data processing\n",
    "\n",
    "- Download the Diabete dataset from https://www.csie.ntu.edu.tw/~cjlin/libsvmtools/datasets/binary/diabetes\n",
    "- Load the data using sklearn.\n",
    "- Preprocess the data."
   ]
  },
  {
   "cell_type": "markdown",
   "metadata": {},
   "source": [
    "## 1.1. Load the data"
   ]
  },
  {
   "cell_type": "code",
   "execution_count": 23,
   "metadata": {},
   "outputs": [
    {
     "name": "stdout",
     "output_type": "stream",
     "text": [
      "Shape of x: (768, 8)\n",
      "Shape of y: (768,) float64\n"
     ]
    }
   ],
   "source": [
    "from sklearn import datasets\n",
    "import numpy\n",
    "\n",
    "x_sparse, y = datasets.load_svmlight_file('diabetes')\n",
    "x = x_sparse.todense()\n",
    "\n",
    "print('Shape of x: ' + str(x.shape))\n",
    "print('Shape of y: ' + str(y.shape))"
   ]
  },
  {
   "cell_type": "markdown",
   "metadata": {},
   "source": [
    "## 1.2. Partition to training and test sets"
   ]
  },
  {
   "cell_type": "code",
   "execution_count": 2,
   "metadata": {},
   "outputs": [
    {
     "name": "stdout",
     "output_type": "stream",
     "text": [
      "Shape of x_train: (615, 8)\n",
      "Shape of x_test: (153, 8)\n",
      "Shape of y_train: (615, 1)\n",
      "Shape of y_test: (153, 1)\n"
     ]
    }
   ],
   "source": [
    "# partition the data to training and test sets\n",
    "n = x.shape[0]\n",
    "n_train = int(numpy.ceil(n * 0.8))\n",
    "n_test = n - n_train\n",
    "\n",
    "rand_indices = numpy.random.permutation(n)\n",
    "train_indices = rand_indices[0:n_train]\n",
    "test_indices = rand_indices[n_train:n]\n",
    "\n",
    "x_train = x[train_indices, :]\n",
    "x_test = x[test_indices, :]\n",
    "y_train = y[train_indices].reshape(n_train, 1)\n",
    "y_test = y[test_indices].reshape(n_test, 1)\n",
    "\n",
    "print('Shape of x_train: ' + str(x_train.shape))\n",
    "print('Shape of x_test: ' + str(x_test.shape))\n",
    "print('Shape of y_train: ' + str(y_train.shape))\n",
    "print('Shape of y_test: ' + str(y_test.shape))"
   ]
  },
  {
   "cell_type": "markdown",
   "metadata": {},
   "source": [
    "## 1.3. Feature scaling"
   ]
  },
  {
   "cell_type": "markdown",
   "metadata": {},
   "source": [
    "Use the standardization to trainsform both training and test features"
   ]
  },
  {
   "cell_type": "code",
   "execution_count": 3,
   "metadata": {},
   "outputs": [
    {
     "name": "stdout",
     "output_type": "stream",
     "text": [
      "test mean = \n",
      "[[-0.03169384  0.026898    0.01704672  0.1735452   0.09398153 -0.00280105\n",
      "   0.13976501 -0.07144073]]\n",
      "test std = \n",
      "[[0.91467255 1.00739394 0.94151081 1.00346814 1.00192733 1.07234553\n",
      "  1.2243208  0.94921093]]\n"
     ]
    }
   ],
   "source": [
    "# Standardization\n",
    "import numpy\n",
    "\n",
    "# calculate mu and sig using the training set\n",
    "d = x_train.shape[1]\n",
    "mu = numpy.mean(x_train, axis=0).reshape(1, d)\n",
    "sig = numpy.std(x_train, axis=0).reshape(1, d)\n",
    "\n",
    "# transform the training features\n",
    "x_train = (x_train - mu) / (sig + 1E-6)\n",
    "\n",
    "# transform the test features\n",
    "x_test = (x_test - mu) / (sig + 1E-6)\n",
    "\n",
    "print('test mean = ')\n",
    "print(numpy.mean(x_test, axis=0))\n",
    "\n",
    "print('test std = ')\n",
    "print(numpy.std(x_test, axis=0))"
   ]
  },
  {
   "cell_type": "markdown",
   "metadata": {},
   "source": [
    "## 1.4. Add a dimension of all ones"
   ]
  },
  {
   "cell_type": "code",
   "execution_count": 4,
   "metadata": {},
   "outputs": [
    {
     "name": "stdout",
     "output_type": "stream",
     "text": [
      "Shape of x_train: (615, 9)\n",
      "Shape of x_test: (153, 9)\n"
     ]
    }
   ],
   "source": [
    "n_train, d = x_train.shape\n",
    "x_train = numpy.concatenate((x_train, numpy.ones((n_train, 1))), axis=1)\n",
    "\n",
    "n_test, d = x_test.shape\n",
    "x_test = numpy.concatenate((x_test, numpy.ones((n_test, 1))), axis=1)\n",
    "\n",
    "print('Shape of x_train: ' + str(x_train.shape))\n",
    "print('Shape of x_test: ' + str(x_test.shape))"
   ]
  },
  {
   "cell_type": "markdown",
   "metadata": {},
   "source": [
    "# 2. Logistic regression model\n",
    "\n",
    "The objective function is $Q (w; X, y) = \\frac{1}{n} \\sum_{i=1}^n \\log \\Big( 1 + \\exp \\big( - y_i x_i^T w \\big) \\Big) + \\frac{\\lambda}{2} \\| w \\|_2^2 $."
   ]
  },
  {
   "cell_type": "code",
   "execution_count": 5,
   "metadata": {},
   "outputs": [],
   "source": [
    "# Calculate the objective function value\n",
    "# Inputs:\n",
    "#     w: d-by-1 matrix\n",
    "#     x: n-by-d matrix\n",
    "#     y: n-by-1 matrix\n",
    "#     lam: scalar, the regularization parameter\n",
    "# Return:\n",
    "#     objective function value (scalar)\n",
    "def objective(w, x, y, lam):\n",
    "    n, d = x.shape\n",
    "    yx = numpy.multiply(y, x) # n-by-d matrix\n",
    "    yxw = numpy.dot(yx, w) # n-by-1 matrix\n",
    "    vec1 = numpy.exp(-yxw) # n-by-1 matrix\n",
    "    vec2 = numpy.log(1 + vec1) # n-by-1 matrix\n",
    "    loss = numpy.mean(vec2) # scalar\n",
    "    reg = lam / 2 * numpy.sum(w * w) # scalar\n",
    "    return loss + reg\n",
    "    "
   ]
  },
  {
   "cell_type": "code",
   "execution_count": 6,
   "metadata": {},
   "outputs": [
    {
     "name": "stdout",
     "output_type": "stream",
     "text": [
      "Initial objective function value = 0.6931471805599453\n"
     ]
    }
   ],
   "source": [
    "# initialize w\n",
    "d = x_train.shape[1]\n",
    "w = numpy.zeros((d, 1))\n",
    "\n",
    "# evaluate the objective function value at w\n",
    "lam = 1E-6\n",
    "objval0 = objective(w, x_train, y_train, lam)\n",
    "print('Initial objective function value = ' + str(objval0))"
   ]
  },
  {
   "cell_type": "markdown",
   "metadata": {},
   "source": [
    "# 3. Numerical optimization"
   ]
  },
  {
   "cell_type": "markdown",
   "metadata": {},
   "source": [
    "## 3.1. Gradient descent\n"
   ]
  },
  {
   "cell_type": "markdown",
   "metadata": {},
   "source": [
    "The gradient at $w$ is $g = - \\frac{1}{n} \\sum_{i=1}^n \\frac{y_i x_i }{1 + \\exp ( y_i x_i^T w)} + \\lambda w$"
   ]
  },
  {
   "cell_type": "code",
   "execution_count": 7,
   "metadata": {},
   "outputs": [],
   "source": [
    "# Calculate the gradient\n",
    "# Inputs:\n",
    "#     w: d-by-1 matrix\n",
    "#     x: n-by-d matrix\n",
    "#     y: n-by-1 matrix\n",
    "#     lam: scalar, the regularization parameter\n",
    "# Return:\n",
    "#     g: g: d-by-1 matrix, full gradient\n",
    "def gradient(w, x, y, lam):\n",
    "    n, d = x.shape\n",
    "    yx = numpy.multiply(y, x) # n-by-d matrix\n",
    "    yxw = numpy.dot(yx, w) # n-by-1 matrix\n",
    "    vec1 = numpy.exp(yxw) # n-by-1 matrix\n",
    "    vec2 = numpy.divide(yx, 1+vec1) # n-by-d matrix\n",
    "    vec3 = -numpy.mean(vec2, axis=0).reshape(d, 1) # d-by-1 matrix\n",
    "    g = vec3 + lam * w\n",
    "    return g"
   ]
  },
  {
   "cell_type": "code",
   "execution_count": 8,
   "metadata": {},
   "outputs": [],
   "source": [
    "# Gradient descent for solving logistic regression\n",
    "# Inputs:\n",
    "#     x: n-by-d matrix\n",
    "#     y: n-by-1 matrix\n",
    "#     lam: scalar, the regularization parameter\n",
    "#     stepsize: scalar\n",
    "#     max_iter: integer, the maximal iterations\n",
    "#     w: d-by-1 matrix, initialization of w\n",
    "# Return:\n",
    "#     w: d-by-1 matrix, the solution\n",
    "#     objvals: a record of each iteration's objective value\n",
    "def grad_descent(x, y, lam, stepsize, max_iter=100, w=None):\n",
    "    n, d = x.shape\n",
    "    objvals = numpy.zeros(max_iter) # store the objective values\n",
    "    if w is None:\n",
    "        w = numpy.zeros((d, 1)) # zero initialization\n",
    "    \n",
    "    for t in range(max_iter):\n",
    "        objval = objective(w, x, y, lam)\n",
    "        objvals[t] = objval\n",
    "        print('Objective value at t=' + str(t) + ' is ' + str(objval))\n",
    "        g = gradient(w, x, y, lam)\n",
    "        w -= stepsize * g\n",
    "    \n",
    "    return w, objvals"
   ]
  },
  {
   "cell_type": "markdown",
   "metadata": {},
   "source": [
    "Run gradient descent."
   ]
  },
  {
   "cell_type": "code",
   "execution_count": 9,
   "metadata": {},
   "outputs": [
    {
     "name": "stdout",
     "output_type": "stream",
     "text": [
      "Objective value at t=0 is 0.6931471805599453\n",
      "Objective value at t=1 is 0.5952245530377035\n",
      "Objective value at t=2 is 0.5532179004094014\n",
      "Objective value at t=3 is 0.5301549194756413\n",
      "Objective value at t=4 is 0.5156426257336536\n",
      "Objective value at t=5 is 0.5057876327594332\n",
      "Objective value at t=6 is 0.4987710289564978\n",
      "Objective value at t=7 is 0.49361157217900425\n",
      "Objective value at t=8 is 0.4897268581577568\n",
      "Objective value at t=9 is 0.4867477804455468\n",
      "Objective value at t=10 is 0.48442917206521613\n",
      "Objective value at t=11 is 0.48260236017352415\n",
      "Objective value at t=12 is 0.48114806006406075\n",
      "Objective value at t=13 is 0.47998000558775966\n",
      "Objective value at t=14 is 0.47903463076387587\n",
      "Objective value at t=15 is 0.47826434107891524\n",
      "Objective value at t=16 is 0.47763300231396355\n",
      "Objective value at t=17 is 0.47711284484817607\n",
      "Objective value at t=18 is 0.476682296327759\n",
      "Objective value at t=19 is 0.47632443741670344\n",
      "Objective value at t=20 is 0.4760258841903252\n",
      "Objective value at t=21 is 0.4757759678811985\n",
      "Objective value at t=22 is 0.4755661251828911\n",
      "Objective value at t=23 is 0.4753894398103548\n",
      "Objective value at t=24 is 0.4752402941517254\n",
      "Objective value at t=25 is 0.4751141020190246\n",
      "Objective value at t=26 is 0.4750071018051374\n",
      "Objective value at t=27 is 0.4749161950958133\n",
      "Objective value at t=28 is 0.47483881981017867\n",
      "Objective value at t=29 is 0.4747728497996804\n",
      "Objective value at t=30 is 0.4747165148860999\n",
      "Objective value at t=31 is 0.4746683368074971\n",
      "Objective value at t=32 is 0.47462707763186246\n",
      "Objective value at t=33 is 0.4745916980055602\n",
      "Objective value at t=34 is 0.4745613232063777\n",
      "Objective value at t=35 is 0.4745352154247685\n",
      "Objective value at t=36 is 0.47451275104119506\n",
      "Objective value at t=37 is 0.4744934019306741\n",
      "Objective value at t=38 is 0.47447672002822444\n",
      "Objective value at t=39 is 0.47446232454588017\n",
      "Objective value at t=40 is 0.47444989135430093\n",
      "Objective value at t=41 is 0.47443914413796395\n",
      "Objective value at t=42 is 0.4744298470085672\n",
      "Objective value at t=43 is 0.4744217983212309\n",
      "Objective value at t=44 is 0.47441482548582364\n",
      "Objective value at t=45 is 0.4744087806039418\n",
      "Objective value at t=46 is 0.4744035367927595\n",
      "Objective value at t=47 is 0.4743989850817299\n",
      "Objective value at t=48 is 0.47439503178817954\n",
      "Objective value at t=49 is 0.4743915962941344\n",
      "Objective value at t=50 is 0.47438860916002384\n",
      "Objective value at t=51 is 0.4743860105217874\n",
      "Objective value at t=52 is 0.47438374872684846\n",
      "Objective value at t=53 is 0.474381779171775\n",
      "Objective value at t=54 is 0.4743800633105191\n",
      "Objective value at t=55 is 0.4743785678071601\n",
      "Objective value at t=56 is 0.4743772638112429\n",
      "Objective value at t=57 is 0.47437612633728016\n",
      "Objective value at t=58 is 0.47437513373287327\n",
      "Objective value at t=59 is 0.47437426722233184\n",
      "Objective value at t=60 is 0.4743735105146899\n",
      "Objective value at t=61 is 0.4743728494667177\n",
      "Objective value at t=62 is 0.47437227179295066\n",
      "Objective value at t=63 is 0.47437176681596316\n",
      "Objective value at t=64 is 0.47437132525112163\n",
      "Objective value at t=65 is 0.47437093902090893\n",
      "Objective value at t=66 is 0.47437060109463686\n",
      "Objective value at t=67 is 0.47437030534997093\n",
      "Objective value at t=68 is 0.4743700464532164\n",
      "Objective value at t=69 is 0.4743698197557525\n",
      "Objective value at t=70 is 0.474369621204377\n",
      "Objective value at t=71 is 0.4743694472636461\n",
      "Objective value at t=72 is 0.47436929484855994\n",
      "Objective value at t=73 is 0.4743691612661846\n",
      "Objective value at t=74 is 0.4743690441649934\n",
      "Objective value at t=75 is 0.47436894149088304\n",
      "Objective value at t=76 is 0.4743688514489657\n",
      "Objective value at t=77 is 0.47436877247036074\n",
      "Objective value at t=78 is 0.47436870318331753\n",
      "Objective value at t=79 is 0.47436864238809295\n",
      "Objective value at t=80 is 0.4743685890350859\n",
      "Objective value at t=81 is 0.4743685422057964\n",
      "Objective value at t=82 is 0.4743685010962381\n",
      "Objective value at t=83 is 0.47436846500248414\n",
      "Objective value at t=84 is 0.47436843330806194\n",
      "Objective value at t=85 is 0.4743684054729625\n",
      "Objective value at t=86 is 0.4743683810240476\n",
      "Objective value at t=87 is 0.4743683595466799\n",
      "Objective value at t=88 is 0.47436834067741135\n",
      "Objective value at t=89 is 0.4743683240976008\n",
      "Objective value at t=90 is 0.4743683095278345\n",
      "Objective value at t=91 is 0.4743682967230511\n",
      "Objective value at t=92 is 0.47436828546827925\n",
      "Objective value at t=93 is 0.47436827557491046\n",
      "Objective value at t=94 is 0.47436826687743794\n",
      "Objective value at t=95 is 0.474368259230604\n",
      "Objective value at t=96 is 0.4743682525069026\n",
      "Objective value at t=97 is 0.47436824659439314\n",
      "Objective value at t=98 is 0.4743682413947864\n",
      "Objective value at t=99 is 0.474368236821768\n"
     ]
    }
   ],
   "source": [
    "lam = 1E-6\n",
    "stepsize = 1.0\n",
    "w, objvals_gd = grad_descent(x_train, y_train, lam, stepsize)"
   ]
  },
  {
   "cell_type": "markdown",
   "metadata": {},
   "source": [
    "## 3.2. Stochastic gradient descent (SGD)\n",
    "\n",
    "Define $Q_i (w) = \\log \\Big( 1 + \\exp \\big( - y_i x_i^T w \\big) \\Big) + \\frac{\\lambda}{2} \\| w \\|_2^2 $.\n",
    "\n",
    "The stochastic gradient at $w$ is $g_i = \\frac{\\partial Q_i }{ \\partial w} = -\\frac{y_i x_i }{1 + \\exp ( y_i x_i^T w)} + \\lambda w$."
   ]
  },
  {
   "cell_type": "code",
   "execution_count": 10,
   "metadata": {},
   "outputs": [],
   "source": [
    "# Calculate the objective Q_i and the gradient of Q_i\n",
    "# Inputs:\n",
    "#     w: d-by-1 matrix\n",
    "#     xi: 1-by-d matrix\n",
    "#     yi: scalar\n",
    "#     lam: scalar, the regularization parameter\n",
    "# Return:\n",
    "#     obj: scalar, the objective Q_i\n",
    "#     g: d-by-1 matrix, gradient of Q_i\n",
    "def stochastic_objective_gradient(w, xi, yi, lam):\n",
    "    d = xi.shape[0]\n",
    "    yx = yi * xi # 1-by-d matrix\n",
    "    yxw = float(numpy.dot(yx, w)) # scalar\n",
    "    \n",
    "    # calculate objective function Q_i\n",
    "    loss = numpy.log(1 + numpy.exp(-yxw)) # scalar\n",
    "    reg = lam / 2 * numpy.sum(w * w) # scalar\n",
    "    obj = loss + reg\n",
    "    \n",
    "    # calculate stochastic gradient\n",
    "    g_loss = -yx.T / (1 + numpy.exp(yxw)) # d-by-1 matrix\n",
    "    g = g_loss + lam * w # d-by-1 matrix\n",
    "    \n",
    "    return obj, g"
   ]
  },
  {
   "cell_type": "code",
   "execution_count": 11,
   "metadata": {},
   "outputs": [],
   "source": [
    "# SGD for solving logistic regression\n",
    "# Inputs:\n",
    "#     x: n-by-d matrix\n",
    "#     y: n-by-1 matrix\n",
    "#     lam: scalar, the regularization parameter\n",
    "#     stepsize: scalar\n",
    "#     max_epoch: integer, the maximal epochs\n",
    "#     w: d-by-1 matrix, initialization of w\n",
    "# Return:\n",
    "#     w: the solution\n",
    "#     objvals: record of each iteration's objective value\n",
    "def sgd(x, y, lam, stepsize, max_epoch=100, w=None):\n",
    "    n, d = x.shape\n",
    "    objvals = numpy.zeros(max_epoch) # store the objective values\n",
    "    if w is None:\n",
    "        w = numpy.zeros((d, 1)) # zero initialization\n",
    "    \n",
    "    for t in range(max_epoch):\n",
    "        # randomly shuffle the samples\n",
    "        rand_indices = numpy.random.permutation(n)\n",
    "        x_rand = x[rand_indices, :]\n",
    "        y_rand = y[rand_indices, :]\n",
    "        \n",
    "        objval = 0 # accumulate the objective values\n",
    "        for i in range(n):\n",
    "            xi = x_rand[i, :] # 1-by-d matrix\n",
    "            yi = float(y_rand[i, :]) # scalar\n",
    "            obj, g = stochastic_objective_gradient(w, xi, yi, lam)\n",
    "            objval += obj\n",
    "            w -= stepsize * g\n",
    "        \n",
    "        stepsize *= 0.9 # decrease step size\n",
    "        objval /= n\n",
    "        objvals[t] = objval\n",
    "        print('Objective value at epoch t=' + str(t) + ' is ' + str(objval))\n",
    "    \n",
    "    return w, objvals"
   ]
  },
  {
   "cell_type": "markdown",
   "metadata": {},
   "source": [
    "Run SGD."
   ]
  },
  {
   "cell_type": "code",
   "execution_count": 12,
   "metadata": {},
   "outputs": [
    {
     "name": "stdout",
     "output_type": "stream",
     "text": [
      "Objective value at epoch t=0 is 0.5358817381937885\n",
      "Objective value at epoch t=1 is 0.5270237268178086\n",
      "Objective value at epoch t=2 is 0.517026242631157\n",
      "Objective value at epoch t=3 is 0.5100467206403603\n",
      "Objective value at epoch t=4 is 0.5081303091675315\n",
      "Objective value at epoch t=5 is 0.5021528561818\n",
      "Objective value at epoch t=6 is 0.505445294839298\n",
      "Objective value at epoch t=7 is 0.49933062849072113\n",
      "Objective value at epoch t=8 is 0.4972572115354765\n",
      "Objective value at epoch t=9 is 0.500317573260769\n",
      "Objective value at epoch t=10 is 0.4914896952492705\n",
      "Objective value at epoch t=11 is 0.48887266014162173\n",
      "Objective value at epoch t=12 is 0.49370572986866107\n",
      "Objective value at epoch t=13 is 0.4896128816063281\n",
      "Objective value at epoch t=14 is 0.487408963614559\n",
      "Objective value at epoch t=15 is 0.48811394740832637\n",
      "Objective value at epoch t=16 is 0.48668701630119515\n",
      "Objective value at epoch t=17 is 0.48317102056690087\n",
      "Objective value at epoch t=18 is 0.48283438949435975\n",
      "Objective value at epoch t=19 is 0.483901060048325\n",
      "Objective value at epoch t=20 is 0.4821435731040033\n",
      "Objective value at epoch t=21 is 0.4809448924869514\n",
      "Objective value at epoch t=22 is 0.48134078893162496\n",
      "Objective value at epoch t=23 is 0.4806096840213076\n",
      "Objective value at epoch t=24 is 0.4794338149607212\n",
      "Objective value at epoch t=25 is 0.47932276901311255\n",
      "Objective value at epoch t=26 is 0.47907220925878613\n",
      "Objective value at epoch t=27 is 0.47845057544414327\n",
      "Objective value at epoch t=28 is 0.4780617059959178\n",
      "Objective value at epoch t=29 is 0.47781315206729597\n",
      "Objective value at epoch t=30 is 0.47744730592314366\n",
      "Objective value at epoch t=31 is 0.4770916363005546\n",
      "Objective value at epoch t=32 is 0.47688864408039555\n",
      "Objective value at epoch t=33 is 0.4765858021350859\n",
      "Objective value at epoch t=34 is 0.47641838598691705\n",
      "Objective value at epoch t=35 is 0.47623265733279563\n",
      "Objective value at epoch t=36 is 0.47603357712380506\n",
      "Objective value at epoch t=37 is 0.47584276222496696\n",
      "Objective value at epoch t=38 is 0.47573145107030257\n",
      "Objective value at epoch t=39 is 0.47558708438225067\n",
      "Objective value at epoch t=40 is 0.4754542628176845\n",
      "Objective value at epoch t=41 is 0.4753607090963415\n",
      "Objective value at epoch t=42 is 0.47527200557198546\n",
      "Objective value at epoch t=43 is 0.4751784936545188\n",
      "Objective value at epoch t=44 is 0.4750890029899214\n",
      "Objective value at epoch t=45 is 0.4750297553176324\n",
      "Objective value at epoch t=46 is 0.4749644845660612\n",
      "Objective value at epoch t=47 is 0.4749008613510535\n",
      "Objective value at epoch t=48 is 0.4748461872842367\n",
      "Objective value at epoch t=49 is 0.4748015744601526\n",
      "Objective value at epoch t=50 is 0.4747589018400002\n",
      "Objective value at epoch t=51 is 0.47472219546845384\n",
      "Objective value at epoch t=52 is 0.47468552576858886\n",
      "Objective value at epoch t=53 is 0.47465387229792105\n",
      "Objective value at epoch t=54 is 0.4746267718595654\n",
      "Objective value at epoch t=55 is 0.4746007206531392\n",
      "Objective value at epoch t=56 is 0.4745773106253646\n",
      "Objective value at epoch t=57 is 0.4745565010565428\n",
      "Objective value at epoch t=58 is 0.47453723380545815\n",
      "Objective value at epoch t=59 is 0.47452071459217365\n",
      "Objective value at epoch t=60 is 0.4745059825836224\n",
      "Objective value at epoch t=61 is 0.47449183478945406\n",
      "Objective value at epoch t=62 is 0.47447983218980594\n",
      "Objective value at epoch t=63 is 0.4744687275272493\n",
      "Objective value at epoch t=64 is 0.47445864873862104\n",
      "Objective value at epoch t=65 is 0.4744495158350265\n",
      "Objective value at epoch t=66 is 0.4744414773440217\n",
      "Objective value at epoch t=67 is 0.47443418056933606\n",
      "Objective value at epoch t=68 is 0.47442761343603684\n",
      "Objective value at epoch t=69 is 0.47442157491110004\n",
      "Objective value at epoch t=70 is 0.4744162892294132\n",
      "Objective value at epoch t=71 is 0.47441150229559415\n",
      "Objective value at epoch t=72 is 0.4744072069250579\n",
      "Objective value at epoch t=73 is 0.47440330096467537\n",
      "Objective value at epoch t=74 is 0.4743998148713523\n",
      "Objective value at epoch t=75 is 0.4743966510870655\n",
      "Objective value at epoch t=76 is 0.47439380394371683\n",
      "Objective value at epoch t=77 is 0.47439125920087005\n",
      "Objective value at epoch t=78 is 0.47438896635621747\n",
      "Objective value at epoch t=79 is 0.4743868928056191\n",
      "Objective value at epoch t=80 is 0.47438503407756094\n",
      "Objective value at epoch t=81 is 0.4743833592269452\n",
      "Objective value at epoch t=82 is 0.4743818489001131\n",
      "Objective value at epoch t=83 is 0.47438049315988806\n",
      "Objective value at epoch t=84 is 0.47437927016346537\n",
      "Objective value at epoch t=85 is 0.4743781707179912\n",
      "Objective value at epoch t=86 is 0.47437718121597683\n",
      "Objective value at epoch t=87 is 0.4743762900040347\n",
      "Objective value at epoch t=88 is 0.47437548815605773\n",
      "Objective value at epoch t=89 is 0.4743747665642544\n",
      "Objective value at epoch t=90 is 0.4743741173696545\n",
      "Objective value at epoch t=91 is 0.4743735323918621\n",
      "Objective value at epoch t=92 is 0.47437300631324425\n",
      "Objective value at epoch t=93 is 0.4743725328406192\n",
      "Objective value at epoch t=94 is 0.4743721066236518\n",
      "Objective value at epoch t=95 is 0.47437172302551134\n",
      "Objective value at epoch t=96 is 0.47437137750058056\n",
      "Objective value at epoch t=97 is 0.4743710671106273\n",
      "Objective value at epoch t=98 is 0.4743707874498653\n",
      "Objective value at epoch t=99 is 0.47437053587841704\n"
     ]
    }
   ],
   "source": [
    "lam = 1E-6\n",
    "stepsize = 0.1\n",
    "w, objvals_sgd = sgd(x_train, y_train, lam, stepsize)"
   ]
  },
  {
   "cell_type": "markdown",
   "metadata": {},
   "source": [
    "# 4. Compare GD with SGD\n",
    "\n",
    "Plot objective function values against epochs."
   ]
  },
  {
   "cell_type": "code",
   "execution_count": 13,
   "metadata": {},
   "outputs": [
    {
     "data": {
      "image/png": "[encoded data removed]",
      "text/plain": [
       "<Figure size 432x288 with 1 Axes>"
      ]
     },
     "metadata": {
      "needs_background": "light"
     },
     "output_type": "display_data"
    }
   ],
   "source": [
    "import matplotlib.pyplot as plt\n",
    "%matplotlib inline\n",
    "\n",
    "fig = plt.figure(figsize=(6, 4))\n",
    "\n",
    "epochs_gd = range(len(objvals_gd))\n",
    "epochs_sgd = range(len(objvals_sgd))\n",
    "\n",
    "line0, = plt.plot(epochs_gd, objvals_gd, '--b', LineWidth=4)\n",
    "line1, = plt.plot(epochs_sgd, objvals_sgd, '-r', LineWidth=2)\n",
    "plt.xlabel('Epochs', FontSize=20)\n",
    "plt.ylabel('Objective Value', FontSize=20)\n",
    "plt.xticks(FontSize=16)\n",
    "plt.yticks(FontSize=16)\n",
    "plt.legend([line0, line1], ['GD', 'SGD'], fontsize=20)\n",
    "plt.tight_layout()\n",
    "plt.show()\n",
    "fig.savefig('compare_gd_sgd.pdf', format='pdf', dpi=1200)"
   ]
  },
  {
   "cell_type": "markdown",
   "metadata": {},
   "source": [
    "# 5. Prediction"
   ]
  },
  {
   "cell_type": "code",
   "execution_count": 14,
   "metadata": {},
   "outputs": [],
   "source": [
    "# Predict class label\n",
    "# Inputs:\n",
    "#     w: d-by-1 matrix\n",
    "#     X: m-by-d matrix\n",
    "# Return:\n",
    "#     f: m-by-1 matrix, the predictions\n",
    "def predict(w, X):\n",
    "    xw = numpy.dot(X, w)\n",
    "    f = numpy.sign(xw)\n",
    "    return f"
   ]
  },
  {
   "cell_type": "code",
   "execution_count": 15,
   "metadata": {},
   "outputs": [
    {
     "name": "stdout",
     "output_type": "stream",
     "text": [
      "Training classification error is 0.21788617886178863\n"
     ]
    }
   ],
   "source": [
    "# evaluate training error\n",
    "f_train = predict(w, x_train)\n",
    "diff = numpy.abs(f_train - y_train) / 2\n",
    "error_train = numpy.mean(diff)\n",
    "print('Training classification error is ' + str(error_train))"
   ]
  },
  {
   "cell_type": "code",
   "execution_count": 16,
   "metadata": {},
   "outputs": [
    {
     "name": "stdout",
     "output_type": "stream",
     "text": [
      "Test classification error is 0.23529411764705882\n"
     ]
    }
   ],
   "source": [
    "# evaluate test error\n",
    "f_test = predict(w, x_test)\n",
    "diff = numpy.abs(f_test - y_test) / 2\n",
    "error_test = numpy.mean(diff)\n",
    "print('Test classification error is ' + str(error_test))"
   ]
  },
  {
   "cell_type": "markdown",
   "metadata": {},
   "source": [
    "# 6. Mini-batch SGD (fill the code)\n",
    "\n",
    "Define $Q_I (w) = \\frac{1}{b} \\sum_{i \\in I} \\log \\Big( 1 + \\exp \\big( - y_i x_i^T w \\big) \\Big) + \\frac{\\lambda}{2} \\| w \\|_2^2 $, where $I$ is a set containing $b$ indices randomly drawn from $\\{ 1, \\cdots , n \\}$ without replacement.\n",
    "\n",
    "The stochastic gradient at $w$ is $g_I = \\frac{\\partial Q_I }{ \\partial w} = \\frac{1}{b} \\sum_{i \\in I} \\frac{- y_i x_i }{1 + \\exp ( y_i x_i^T w)} + \\lambda w$."
   ]
  },
  {
   "cell_type": "markdown",
   "metadata": {},
   "source": [
    "## 6.1. Compute the objective $Q_I$ and its gradient using a batch of samples"
   ]
  },
  {
   "cell_type": "code",
   "execution_count": 95,
   "metadata": {},
   "outputs": [],
   "source": [
    "# Calculate the objective Q_I and the gradient of Q_I\n",
    "# Inputs:\n",
    "#     w: d-by-1 matrix\n",
    "#     xi: b-by-d matrix\n",
    "#     yi: b-by-1 matrix\n",
    "#     lam: scalar, the regularization parameter\n",
    "#     b: integer, the batch size\n",
    "# Return:\n",
    "#     obj: scalar, the average objective Q_i\n",
    "#     g: d-by-1 matrix, average gradient of Q_i\n",
    "def mb_stochastic_objective_gradient(w, xi, yi, lam, b):\n",
    "    # Fill the function\n",
    "    # Follow the implementation of stochastic_objective_gradient\n",
    "    # Use matrix-vector multiplication; do not use FOR LOOP of vector-vector multiplications\n",
    "    d = xi.shape[0]\n",
    "    yx = yi * xi # b-by-d matrix\n",
    "    yxw = numpy.dot(yx, w) # b-by-1 matrix\n",
    "    \n",
    "    # calculate objective function Q_i\n",
    "    loss = numpy.mean(numpy.log(1 + numpy.exp(-yxw))) # scalar\n",
    "    reg = lam / 2 * numpy.sum(w * w) # scalar\n",
    "    obj = loss + reg\n",
    "    \n",
    "    # calculate stochastic gradient\n",
    "    g_loss = numpy.mean(-yx.T / (1 + numpy.exp(yxw).T), axis=1).reshape((-1, 1)) # d-by-1 matrix\n",
    "    g = g_loss + lam * w # d-by-1 matrix\n",
    "    \n",
    "    return obj, g"
   ]
  },
  {
   "cell_type": "markdown",
   "metadata": {},
   "source": [
    "## 6.2. Implement mini-batch SGD"
   ]
  },
  {
   "cell_type": "code",
   "execution_count": 163,
   "metadata": {},
   "outputs": [],
   "source": [
    "# Mini-Batch SGD for solving logistic regression\n",
    "# Inputs:\n",
    "#     x: n-by-d matrix\n",
    "#     y: n-by-1 matrix\n",
    "#     lam: scalar, the regularization parameter\n",
    "#     b: integer, the batch size\n",
    "#     stepsize: scalar\n",
    "#     max_epoch: integer, the maximal epochs\n",
    "#     w: d-by-1 matrix, initialization of w\n",
    "# Return:\n",
    "#     w: the solution\n",
    "#     objvals: record of each iteration's objective value\n",
    "def mb_sgd(x, y, lam, b, stepsize, max_epoch=100, w=None):\n",
    "    # Fill the function\n",
    "    # Follow the implementation of sgd\n",
    "    # Record one objective value per epoch (not per iteration!)\n",
    "    n, d = x.shape\n",
    "    objvals = numpy.zeros(max_epoch) # store the objective values\n",
    "    if w is None:\n",
    "        w = numpy.zeros((d, 1)) # zero initialization\n",
    "    \n",
    "    for t in range(max_epoch):\n",
    "        # randomly shuffle the samples\n",
    "        rand_indices = numpy.random.permutation(n)\n",
    "        x_rand = x[rand_indices, :]\n",
    "        y_rand = y[rand_indices, :]\n",
    "        \n",
    "        objval = 0 # accumulate the objective values\n",
    "        for i in range(0, n, b):\n",
    "            end = i + b  # last index of a batch\n",
    "            xi = numpy.array(x_rand[i:end, :]) # b-by-d matrix\n",
    "            yi = numpy.array(y_rand[i:end, :]) # b-by-1 matrix\n",
    "            obj, g = mb_stochastic_objective_gradient(w, xi, yi, lam, b)\n",
    "            objval += obj\n",
    "            w -= stepsize * g\n",
    "        \n",
    "        stepsize *= 0.9 # decrease step size\n",
    "        objval /= (n // b) # batch number\n",
    "        objvals[t] = objval\n",
    "        print('Objective value at epoch t=' + str(t) + ' is ' + str(objval))\n",
    "    \n",
    "    return w, objvals"
   ]
  },
  {
   "cell_type": "markdown",
   "metadata": {},
   "source": [
    "## 6.3. Run MB-SGD"
   ]
  },
  {
   "cell_type": "code",
   "execution_count": 164,
   "metadata": {},
   "outputs": [
    {
     "name": "stdout",
     "output_type": "stream",
     "text": [
      "Objective value at epoch t=0 is 0.545429765378395\n",
      "Objective value at epoch t=1 is 0.5153653594258629\n",
      "Objective value at epoch t=2 is 0.5179964460840706\n",
      "Objective value at epoch t=3 is 0.5139328388832213\n",
      "Objective value at epoch t=4 is 0.5034648812900787\n",
      "Objective value at epoch t=5 is 0.5029499001743128\n",
      "Objective value at epoch t=6 is 0.5029318845958264\n",
      "Objective value at epoch t=7 is 0.503149484819581\n",
      "Objective value at epoch t=8 is 0.4992213352300082\n",
      "Objective value at epoch t=9 is 0.49989657004090277\n",
      "Objective value at epoch t=10 is 0.4962586834669177\n",
      "Objective value at epoch t=11 is 0.49400181889507466\n",
      "Objective value at epoch t=12 is 0.4939378922685001\n",
      "Objective value at epoch t=13 is 0.49390847282260736\n",
      "Objective value at epoch t=14 is 0.49202933403325105\n",
      "Objective value at epoch t=15 is 0.4904751971422877\n",
      "Objective value at epoch t=16 is 0.4884142374730468\n",
      "Objective value at epoch t=17 is 0.489418884482554\n",
      "Objective value at epoch t=18 is 0.4892390044846224\n",
      "Objective value at epoch t=19 is 0.487547235996733\n",
      "Objective value at epoch t=20 is 0.4869945041623949\n",
      "Objective value at epoch t=21 is 0.4874080763830763\n",
      "Objective value at epoch t=22 is 0.48558313045728885\n",
      "Objective value at epoch t=23 is 0.4853122428651266\n",
      "Objective value at epoch t=24 is 0.4853121673165942\n",
      "Objective value at epoch t=25 is 0.48417694077271567\n",
      "Objective value at epoch t=26 is 0.4839183697220896\n",
      "Objective value at epoch t=27 is 0.48388610146218936\n",
      "Objective value at epoch t=28 is 0.4836561283577547\n",
      "Objective value at epoch t=29 is 0.4829515046910821\n",
      "Objective value at epoch t=30 is 0.483039767155754\n",
      "Objective value at epoch t=31 is 0.4823326082752896\n",
      "Objective value at epoch t=32 is 0.483323176064855\n",
      "Objective value at epoch t=33 is 0.48229183198008974\n",
      "Objective value at epoch t=34 is 0.48168910186033714\n",
      "Objective value at epoch t=35 is 0.4825982200043974\n",
      "Objective value at epoch t=36 is 0.48175198325891944\n",
      "Objective value at epoch t=37 is 0.4821684527112732\n",
      "Objective value at epoch t=38 is 0.48207564027181743\n",
      "Objective value at epoch t=39 is 0.4820304842848822\n",
      "Objective value at epoch t=40 is 0.48101138017640604\n",
      "Objective value at epoch t=41 is 0.48083756973358377\n",
      "Objective value at epoch t=42 is 0.48158815540768163\n",
      "Objective value at epoch t=43 is 0.48107716449586985\n",
      "Objective value at epoch t=44 is 0.4823496247983349\n",
      "Objective value at epoch t=45 is 0.48125073323324247\n",
      "Objective value at epoch t=46 is 0.4812654427068955\n",
      "Objective value at epoch t=47 is 0.4808005990757612\n",
      "Objective value at epoch t=48 is 0.48134579448213444\n",
      "Objective value at epoch t=49 is 0.48135990417171554\n",
      "Objective value at epoch t=50 is 0.4806543840797836\n",
      "Objective value at epoch t=51 is 0.4804893394773128\n",
      "Objective value at epoch t=52 is 0.4809197749246491\n",
      "Objective value at epoch t=53 is 0.48069437162185613\n",
      "Objective value at epoch t=54 is 0.48047734668302794\n",
      "Objective value at epoch t=55 is 0.481205713685116\n",
      "Objective value at epoch t=56 is 0.4813030868304647\n",
      "Objective value at epoch t=57 is 0.48073489044033085\n",
      "Objective value at epoch t=58 is 0.4807324732954467\n",
      "Objective value at epoch t=59 is 0.4808392239256901\n",
      "Objective value at epoch t=60 is 0.48088852037362967\n",
      "Objective value at epoch t=61 is 0.4807010330116574\n",
      "Objective value at epoch t=62 is 0.48046850851337364\n",
      "Objective value at epoch t=63 is 0.48062733490848725\n",
      "Objective value at epoch t=64 is 0.4804427632561037\n",
      "Objective value at epoch t=65 is 0.48133346762672835\n",
      "Objective value at epoch t=66 is 0.4801416783568395\n",
      "Objective value at epoch t=67 is 0.4805662171272285\n",
      "Objective value at epoch t=68 is 0.48036937730981333\n",
      "Objective value at epoch t=69 is 0.48048887278032776\n",
      "Objective value at epoch t=70 is 0.48080454607381284\n",
      "Objective value at epoch t=71 is 0.4802987997764614\n",
      "Objective value at epoch t=72 is 0.48042523741432336\n",
      "Objective value at epoch t=73 is 0.4803723080352134\n",
      "Objective value at epoch t=74 is 0.4804102884041906\n",
      "Objective value at epoch t=75 is 0.48064558534381985\n",
      "Objective value at epoch t=76 is 0.4802075352613035\n",
      "Objective value at epoch t=77 is 0.4811628348707145\n",
      "Objective value at epoch t=78 is 0.48036819372104206\n",
      "Objective value at epoch t=79 is 0.4807381718826747\n",
      "Objective value at epoch t=80 is 0.48038135785325836\n",
      "Objective value at epoch t=81 is 0.4808180452029485\n",
      "Objective value at epoch t=82 is 0.480470649962273\n",
      "Objective value at epoch t=83 is 0.4810014436986291\n",
      "Objective value at epoch t=84 is 0.4804735574034187\n",
      "Objective value at epoch t=85 is 0.4804047245241089\n",
      "Objective value at epoch t=86 is 0.4811283189074203\n",
      "Objective value at epoch t=87 is 0.48173423517775255\n",
      "Objective value at epoch t=88 is 0.4807481809771585\n",
      "Objective value at epoch t=89 is 0.48141498713368874\n",
      "Objective value at epoch t=90 is 0.4808357138771533\n",
      "Objective value at epoch t=91 is 0.48047362699125135\n",
      "Objective value at epoch t=92 is 0.48086927734071555\n",
      "Objective value at epoch t=93 is 0.480370532466725\n",
      "Objective value at epoch t=94 is 0.48180853318773853\n",
      "Objective value at epoch t=95 is 0.4806800162996579\n",
      "Objective value at epoch t=96 is 0.48102915067075125\n",
      "Objective value at epoch t=97 is 0.481683983206241\n",
      "Objective value at epoch t=98 is 0.48086358259218953\n",
      "Objective value at epoch t=99 is 0.4803287397746415\n"
     ]
    }
   ],
   "source": [
    "# MB-SGD with batch size b=8\n",
    "lam = 1E-6 # do not change\n",
    "b = 8 # do not change\n",
    "stepsize = 0.6 # you must tune this parameter\n",
    "\n",
    "w, objvals_mbsgd8 = mb_sgd(x_train, y_train, lam, b, stepsize)"
   ]
  },
  {
   "cell_type": "code",
   "execution_count": 165,
   "metadata": {},
   "outputs": [
    {
     "name": "stdout",
     "output_type": "stream",
     "text": [
      "Objective value at epoch t=0 is 0.6453174836603952\n",
      "Objective value at epoch t=1 is 0.559218872010073\n",
      "Objective value at epoch t=2 is 0.5491176395887495\n",
      "Objective value at epoch t=3 is 0.5418726063066056\n",
      "Objective value at epoch t=4 is 0.5290117442905756\n",
      "Objective value at epoch t=5 is 0.5309682397503299\n",
      "Objective value at epoch t=6 is 0.5283303003678091\n",
      "Objective value at epoch t=7 is 0.5273717166854752\n",
      "Objective value at epoch t=8 is 0.5305132689263731\n",
      "Objective value at epoch t=9 is 0.5323097937693284\n",
      "Objective value at epoch t=10 is 0.5319761542179647\n",
      "Objective value at epoch t=11 is 0.5226449320583579\n",
      "Objective value at epoch t=12 is 0.5381046951149944\n",
      "Objective value at epoch t=13 is 0.5308543622962687\n",
      "Objective value at epoch t=14 is 0.5258561178414775\n",
      "Objective value at epoch t=15 is 0.5265708782097783\n",
      "Objective value at epoch t=16 is 0.5289193526290767\n",
      "Objective value at epoch t=17 is 0.5266691885889427\n",
      "Objective value at epoch t=18 is 0.5336511491953482\n",
      "Objective value at epoch t=19 is 0.5349698063905128\n",
      "Objective value at epoch t=20 is 0.5281815408408865\n",
      "Objective value at epoch t=21 is 0.5261703520268178\n",
      "Objective value at epoch t=22 is 0.5310294230758699\n",
      "Objective value at epoch t=23 is 0.530303289994867\n",
      "Objective value at epoch t=24 is 0.5239432918274781\n",
      "Objective value at epoch t=25 is 0.5164221120611246\n",
      "Objective value at epoch t=26 is 0.520807818226699\n",
      "Objective value at epoch t=27 is 0.5253903085694949\n",
      "Objective value at epoch t=28 is 0.5309209558662721\n",
      "Objective value at epoch t=29 is 0.525212666005162\n",
      "Objective value at epoch t=30 is 0.5302009354470526\n",
      "Objective value at epoch t=31 is 0.5259696446259429\n",
      "Objective value at epoch t=32 is 0.5283541589799099\n",
      "Objective value at epoch t=33 is 0.5245416765973325\n",
      "Objective value at epoch t=34 is 0.5289953079852695\n",
      "Objective value at epoch t=35 is 0.5259101462228685\n",
      "Objective value at epoch t=36 is 0.5263358922003359\n",
      "Objective value at epoch t=37 is 0.5249421551397555\n",
      "Objective value at epoch t=38 is 0.5325061780256399\n",
      "Objective value at epoch t=39 is 0.522798287204846\n",
      "Objective value at epoch t=40 is 0.5257773483335373\n",
      "Objective value at epoch t=41 is 0.529533918653085\n",
      "Objective value at epoch t=42 is 0.5227845156492307\n",
      "Objective value at epoch t=43 is 0.5202210462298447\n",
      "Objective value at epoch t=44 is 0.5260075684286658\n",
      "Objective value at epoch t=45 is 0.5228008459087203\n",
      "Objective value at epoch t=46 is 0.5264926936961498\n",
      "Objective value at epoch t=47 is 0.5308830821541554\n",
      "Objective value at epoch t=48 is 0.525390743236883\n",
      "Objective value at epoch t=49 is 0.5287488885261029\n",
      "Objective value at epoch t=50 is 0.5321713082459436\n",
      "Objective value at epoch t=51 is 0.5283806959039979\n",
      "Objective value at epoch t=52 is 0.5236368666750091\n",
      "Objective value at epoch t=53 is 0.5284642723514722\n",
      "Objective value at epoch t=54 is 0.5300740378581318\n",
      "Objective value at epoch t=55 is 0.5283289913381117\n",
      "Objective value at epoch t=56 is 0.524830267528184\n",
      "Objective value at epoch t=57 is 0.5293494501336357\n",
      "Objective value at epoch t=58 is 0.524473763476456\n",
      "Objective value at epoch t=59 is 0.5314351986381927\n",
      "Objective value at epoch t=60 is 0.52841430627613\n",
      "Objective value at epoch t=61 is 0.5281238443837298\n",
      "Objective value at epoch t=62 is 0.529682459638238\n",
      "Objective value at epoch t=63 is 0.5244906283680684\n",
      "Objective value at epoch t=64 is 0.5314943074452514\n",
      "Objective value at epoch t=65 is 0.5265405384334118\n",
      "Objective value at epoch t=66 is 0.5286194352178083\n",
      "Objective value at epoch t=67 is 0.5245076976013148\n",
      "Objective value at epoch t=68 is 0.5209622835030667\n",
      "Objective value at epoch t=69 is 0.5257955655691923\n",
      "Objective value at epoch t=70 is 0.5313015938652769\n",
      "Objective value at epoch t=71 is 0.5255079071609898\n",
      "Objective value at epoch t=72 is 0.5386371512397068\n",
      "Objective value at epoch t=73 is 0.5244831402143814\n",
      "Objective value at epoch t=74 is 0.5272513498324652\n",
      "Objective value at epoch t=75 is 0.5206505889318988\n",
      "Objective value at epoch t=76 is 0.5251246946796609\n",
      "Objective value at epoch t=77 is 0.5227334891036306\n",
      "Objective value at epoch t=78 is 0.5275453098366452\n",
      "Objective value at epoch t=79 is 0.5306600765484999\n",
      "Objective value at epoch t=80 is 0.5275938533156231\n",
      "Objective value at epoch t=81 is 0.5242758292570947\n",
      "Objective value at epoch t=82 is 0.5234556468027792\n",
      "Objective value at epoch t=83 is 0.5224031189108628\n",
      "Objective value at epoch t=84 is 0.5273088792923005\n",
      "Objective value at epoch t=85 is 0.522556511498684\n",
      "Objective value at epoch t=86 is 0.5256545264665486\n",
      "Objective value at epoch t=87 is 0.5216115938794307\n",
      "Objective value at epoch t=88 is 0.5347275600513989\n",
      "Objective value at epoch t=89 is 0.5281760216249177\n",
      "Objective value at epoch t=90 is 0.5302067054477662\n",
      "Objective value at epoch t=91 is 0.5250738875988357\n",
      "Objective value at epoch t=92 is 0.5313199237549058\n",
      "Objective value at epoch t=93 is 0.5214127691483413\n",
      "Objective value at epoch t=94 is 0.5262645665695219\n",
      "Objective value at epoch t=95 is 0.5251526028628456\n",
      "Objective value at epoch t=96 is 0.5202208550321498\n",
      "Objective value at epoch t=97 is 0.5241400415570032\n",
      "Objective value at epoch t=98 is 0.5292998402003557\n",
      "Objective value at epoch t=99 is 0.5344594601979792\n"
     ]
    }
   ],
   "source": [
    "# MB-SGD with batch size b=64\n",
    "lam = 1E-6 # do not change\n",
    "b = 64 # do not change\n",
    "stepsize = 0.5 # you must tune this parameter\n",
    "\n",
    "w, objvals_mbsgd64 = mb_sgd(x_train, y_train, lam, b, stepsize)"
   ]
  },
  {
   "cell_type": "markdown",
   "metadata": {},
   "source": [
    "# 7. Plot and compare GD, SGD, and MB-SGD"
   ]
  },
  {
   "cell_type": "markdown",
   "metadata": {},
   "source": [
    "You are required to compare the following algorithms:\n",
    "\n",
    "- Gradient descent (GD)\n",
    "\n",
    "- SGD\n",
    "\n",
    "- MB-SGD with b=8\n",
    "\n",
    "- MB-SGD with b=64\n",
    "\n",
    "Follow the code in Section 4 to plot ```objective function value``` against ```epochs```. There should be four curves in the plot; each curve corresponds to one algorithm."
   ]
  },
  {
   "cell_type": "code",
   "execution_count": 166,
   "metadata": {},
   "outputs": [
    {
     "data": {
      "image/png": "[encoded data removed]",
      "text/plain": [
       "<Figure size 720x288 with 1 Axes>"
      ]
     },
     "metadata": {
      "needs_background": "light"
     },
     "output_type": "display_data"
    }
   ],
   "source": [
    "# plot the 4 curves:\n",
    "fig = plt.figure(figsize=(10, 4))\n",
    "\n",
    "epochs_gd = range(len(objvals_gd))\n",
    "epochs_sgd = range(len(objvals_sgd))\n",
    "epochs_mbsgd8 = range(len(objvals_mbsgd8))\n",
    "epochs_mbsgd64 = range(len(objvals_mbsgd64))\n",
    "\n",
    "line0, = plt.plot(epochs_gd, objvals_gd, '--b', LineWidth=2)\n",
    "line1, = plt.plot(epochs_sgd, objvals_sgd, '-r', LineWidth=2)\n",
    "line2, = plt.plot(epochs_mbsgd8, objvals_mbsgd8, dashes=[2, 2], LineWidth=2)\n",
    "line3, = plt.plot(epochs_mbsgd64, objvals_mbsgd64, dashes=[2, 2, 10, 2], LineWidth=2)\n",
    "plt.xlabel('Epochs', FontSize=20)\n",
    "plt.ylabel('Objective Value', FontSize=20)\n",
    "plt.xticks(FontSize=16)\n",
    "plt.yticks(FontSize=16)\n",
    "plt.legend([line0, line1, line2, line3], ['GD', 'SGD', 'MB-SGD, b=8', 'MB-SGD, b=64'], fontsize=15)\n",
    "plt.tight_layout()\n",
    "plt.show()\n",
    "fig.savefig('compare_gd_sgd_mbsgd8_mbsgd64.pdf', format='pdf', dpi=1200)"
   ]
  },
  {
   "cell_type": "markdown",
   "metadata": {},
   "source": []
  }
 ],
 "metadata": {
  "kernelspec": {
   "display_name": "Python 3",
   "language": "python",
   "name": "python3"
  },
  "language_info": {
   "codemirror_mode": {
    "name": "ipython",
    "version": 3
   },
   "file_extension": ".py",
   "mimetype": "text/x-python",
   "name": "python",
   "nbconvert_exporter": "python",
   "pygments_lexer": "ipython3",
   "version": "3.7.3"
  }
 },
 "nbformat": 4,
 "nbformat_minor": 2
}
